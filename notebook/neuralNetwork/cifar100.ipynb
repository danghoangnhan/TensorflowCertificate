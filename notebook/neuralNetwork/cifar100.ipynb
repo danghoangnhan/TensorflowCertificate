{
 "cells": [
  {
   "cell_type": "code",
   "execution_count": 1,
   "metadata": {},
   "outputs": [
    {
     "name": "stdout",
     "output_type": "stream",
     "text": [
      "2.8.0\n"
     ]
    }
   ],
   "source": [
    "import os\n",
    "os.environ[\"CUDA_VISIBLE_DEVICES\"]=\"1,0\"\n",
    "# TensorFlow and tf.keras\n",
    "import tensorflow as tf\n",
    "\n",
    "# Helper libraries\n",
    "import matplotlib.pyplot as plt\n",
    "print(tf.__version__)"
   ]
  },
  {
   "cell_type": "code",
   "execution_count": 2,
   "metadata": {},
   "outputs": [
    {
     "data": {
      "text/plain": [
       "(50000, 3072)"
      ]
     },
     "execution_count": 2,
     "metadata": {},
     "output_type": "execute_result"
    }
   ],
   "source": [
    "(train_images, train_labels), (test_images, test_labels) = tf.keras.datasets.cifar10.load_data()\n",
    "train_images = train_images / 255\n",
    "test_images = test_images / 255\n",
    "train_images = train_images.reshape(50000,3072)\n",
    "test_images = test_images.reshape(10000, 3072)\n",
    "train_images.shape"
   ]
  },
  {
   "cell_type": "code",
   "execution_count": 3,
   "metadata": {},
   "outputs": [
    {
     "name": "stderr",
     "output_type": "stream",
     "text": [
      "2023-10-12 07:10:48.509365: I tensorflow/stream_executor/cuda/cuda_gpu_executor.cc:936] successful NUMA node read from SysFS had negative value (-1), but there must be at least one NUMA node, so returning NUMA node zero\n",
      "2023-10-12 07:10:48.509571: I tensorflow/stream_executor/cuda/cuda_gpu_executor.cc:936] successful NUMA node read from SysFS had negative value (-1), but there must be at least one NUMA node, so returning NUMA node zero\n",
      "2023-10-12 07:10:48.535928: I tensorflow/stream_executor/cuda/cuda_gpu_executor.cc:936] successful NUMA node read from SysFS had negative value (-1), but there must be at least one NUMA node, so returning NUMA node zero\n",
      "2023-10-12 07:10:48.536124: I tensorflow/stream_executor/cuda/cuda_gpu_executor.cc:936] successful NUMA node read from SysFS had negative value (-1), but there must be at least one NUMA node, so returning NUMA node zero\n",
      "2023-10-12 07:10:48.536272: I tensorflow/stream_executor/cuda/cuda_gpu_executor.cc:936] successful NUMA node read from SysFS had negative value (-1), but there must be at least one NUMA node, so returning NUMA node zero\n",
      "2023-10-12 07:10:48.536420: I tensorflow/stream_executor/cuda/cuda_gpu_executor.cc:936] successful NUMA node read from SysFS had negative value (-1), but there must be at least one NUMA node, so returning NUMA node zero\n",
      "2023-10-12 07:10:48.536904: I tensorflow/core/platform/cpu_feature_guard.cc:151] This TensorFlow binary is optimized with oneAPI Deep Neural Network Library (oneDNN) to use the following CPU instructions in performance-critical operations:  AVX2 FMA\n",
      "To enable them in other operations, rebuild TensorFlow with the appropriate compiler flags.\n",
      "2023-10-12 07:10:48.653068: I tensorflow/stream_executor/cuda/cuda_gpu_executor.cc:936] successful NUMA node read from SysFS had negative value (-1), but there must be at least one NUMA node, so returning NUMA node zero\n",
      "2023-10-12 07:10:48.653270: I tensorflow/stream_executor/cuda/cuda_gpu_executor.cc:936] successful NUMA node read from SysFS had negative value (-1), but there must be at least one NUMA node, so returning NUMA node zero\n",
      "2023-10-12 07:10:48.653431: I tensorflow/stream_executor/cuda/cuda_gpu_executor.cc:936] successful NUMA node read from SysFS had negative value (-1), but there must be at least one NUMA node, so returning NUMA node zero\n",
      "2023-10-12 07:10:48.653582: I tensorflow/stream_executor/cuda/cuda_gpu_executor.cc:936] successful NUMA node read from SysFS had negative value (-1), but there must be at least one NUMA node, so returning NUMA node zero\n",
      "2023-10-12 07:10:48.653731: I tensorflow/stream_executor/cuda/cuda_gpu_executor.cc:936] successful NUMA node read from SysFS had negative value (-1), but there must be at least one NUMA node, so returning NUMA node zero\n",
      "2023-10-12 07:10:48.653873: I tensorflow/stream_executor/cuda/cuda_gpu_executor.cc:936] successful NUMA node read from SysFS had negative value (-1), but there must be at least one NUMA node, so returning NUMA node zero\n",
      "2023-10-12 07:10:49.078961: I tensorflow/stream_executor/cuda/cuda_gpu_executor.cc:936] successful NUMA node read from SysFS had negative value (-1), but there must be at least one NUMA node, so returning NUMA node zero\n",
      "2023-10-12 07:10:49.079177: I tensorflow/stream_executor/cuda/cuda_gpu_executor.cc:936] successful NUMA node read from SysFS had negative value (-1), but there must be at least one NUMA node, so returning NUMA node zero\n",
      "2023-10-12 07:10:49.079330: I tensorflow/stream_executor/cuda/cuda_gpu_executor.cc:936] successful NUMA node read from SysFS had negative value (-1), but there must be at least one NUMA node, so returning NUMA node zero\n",
      "2023-10-12 07:10:49.079478: I tensorflow/stream_executor/cuda/cuda_gpu_executor.cc:936] successful NUMA node read from SysFS had negative value (-1), but there must be at least one NUMA node, so returning NUMA node zero\n",
      "2023-10-12 07:10:49.079624: I tensorflow/stream_executor/cuda/cuda_gpu_executor.cc:936] successful NUMA node read from SysFS had negative value (-1), but there must be at least one NUMA node, so returning NUMA node zero\n",
      "2023-10-12 07:10:49.079771: I tensorflow/core/common_runtime/gpu/gpu_device.cc:1525] Created device /job:localhost/replica:0/task:0/device:GPU:0 with 677 MB memory:  -> device: 0, name: NVIDIA GeForce RTX 2080, pci bus id: 0000:02:00.0, compute capability: 7.5\n",
      "2023-10-12 07:10:49.080103: I tensorflow/stream_executor/cuda/cuda_gpu_executor.cc:936] successful NUMA node read from SysFS had negative value (-1), but there must be at least one NUMA node, so returning NUMA node zero\n",
      "2023-10-12 07:10:49.080249: I tensorflow/core/common_runtime/gpu/gpu_device.cc:1525] Created device /job:localhost/replica:0/task:0/device:GPU:1 with 62 MB memory:  -> device: 1, name: NVIDIA GeForce RTX 2080, pci bus id: 0000:01:00.0, compute capability: 7.5\n"
     ]
    }
   ],
   "source": [
    "model = tf.keras.models.Sequential([\n",
    "    tf.keras.layers.Dense(512, input_dim=(3072), activation='relu'),\n",
    "    tf.keras.layers.Activation('relu'),\n",
    "    tf.keras.layers.Dropout(0.3),\n",
    "    tf.keras.layers.Dense(256, activation='relu'),\n",
    "    tf.keras.layers.Dropout(0.3),\n",
    "    tf.keras.layers.Dense(128, activation='relu'),\n",
    "    tf.keras.layers.Dropout(0.3),\n",
    "    tf.keras.layers.Dense(100, activation='softmax')\n",
    "])"
   ]
  },
  {
   "cell_type": "code",
   "execution_count": 4,
   "metadata": {},
   "outputs": [
    {
     "name": "stderr",
     "output_type": "stream",
     "text": [
      "2023-10-12 07:10:49.269574: W tensorflow/core/framework/cpu_allocator_impl.cc:82] Allocation of 614400000 exceeds 10% of free system memory.\n",
      "2023-10-12 07:10:49.685348: W tensorflow/core/framework/cpu_allocator_impl.cc:82] Allocation of 614400000 exceeds 10% of free system memory.\n"
     ]
    },
    {
     "name": "stdout",
     "output_type": "stream",
     "text": [
      "Epoch 1/1000\n"
     ]
    },
    {
     "name": "stderr",
     "output_type": "stream",
     "text": [
      "2023-10-12 07:11:00.060440: W tensorflow/core/common_runtime/bfc_allocator.cc:462] Allocator (GPU_0_bfc) ran out of memory trying to allocate 5.0KiB (rounded to 5120)requested by op Fill\n",
      "If the cause is memory fragmentation maybe the environment variable 'TF_GPU_ALLOCATOR=cuda_malloc_async' will improve the situation. \n",
      "Current allocation summary follows.\n",
      "Current allocation summary follows.\n",
      "2023-10-12 07:11:00.060486: I tensorflow/core/common_runtime/bfc_allocator.cc:1010] BFCAllocator dump for GPU_0_bfc\n",
      "2023-10-12 07:11:00.060496: I tensorflow/core/common_runtime/bfc_allocator.cc:1017] Bin (256): \tTotal Chunks: 22, Chunks in use: 22. 5.5KiB allocated for chunks. 5.5KiB in use in bin. 144B client-requested in use in bin.\n",
      "2023-10-12 07:11:00.060502: I tensorflow/core/common_runtime/bfc_allocator.cc:1017] Bin (512): \tTotal Chunks: 2, Chunks in use: 2. 1.0KiB allocated for chunks. 1.0KiB in use in bin. 1.0KiB client-requested in use in bin.\n",
      "2023-10-12 07:11:00.060508: I tensorflow/core/common_runtime/bfc_allocator.cc:1017] Bin (1024): \tTotal Chunks: 3, Chunks in use: 3. 3.2KiB allocated for chunks. 3.2KiB in use in bin. 3.0KiB client-requested in use in bin.\n",
      "2023-10-12 07:11:00.060513: I tensorflow/core/common_runtime/bfc_allocator.cc:1017] Bin (2048): \tTotal Chunks: 3, Chunks in use: 2. 7.8KiB allocated for chunks. 4.0KiB in use in bin. 4.0KiB client-requested in use in bin.\n",
      "2023-10-12 07:11:00.060518: I tensorflow/core/common_runtime/bfc_allocator.cc:1017] Bin (4096): \tTotal Chunks: 1, Chunks in use: 1. 5.0KiB allocated for chunks. 5.0KiB in use in bin. 5.0KiB client-requested in use in bin.\n",
      "2023-10-12 07:11:00.060523: I tensorflow/core/common_runtime/bfc_allocator.cc:1017] Bin (8192): \tTotal Chunks: 0, Chunks in use: 0. 0B allocated for chunks. 0B in use in bin. 0B client-requested in use in bin.\n",
      "2023-10-12 07:11:00.060528: I tensorflow/core/common_runtime/bfc_allocator.cc:1017] Bin (16384): \tTotal Chunks: 0, Chunks in use: 0. 0B allocated for chunks. 0B in use in bin. 0B client-requested in use in bin.\n",
      "2023-10-12 07:11:00.060534: I tensorflow/core/common_runtime/bfc_allocator.cc:1017] Bin (32768): \tTotal Chunks: 1, Chunks in use: 1. 49.0KiB allocated for chunks. 49.0KiB in use in bin. 48.8KiB client-requested in use in bin.\n",
      "2023-10-12 07:11:00.060539: I tensorflow/core/common_runtime/bfc_allocator.cc:1017] Bin (65536): \tTotal Chunks: 0, Chunks in use: 0. 0B allocated for chunks. 0B in use in bin. 0B client-requested in use in bin.\n",
      "2023-10-12 07:11:00.060545: I tensorflow/core/common_runtime/bfc_allocator.cc:1017] Bin (131072): \tTotal Chunks: 2, Chunks in use: 2. 319.0KiB allocated for chunks. 319.0KiB in use in bin. 256.0KiB client-requested in use in bin.\n",
      "2023-10-12 07:11:00.060549: I tensorflow/core/common_runtime/bfc_allocator.cc:1017] Bin (262144): \tTotal Chunks: 0, Chunks in use: 0. 0B allocated for chunks. 0B in use in bin. 0B client-requested in use in bin.\n",
      "2023-10-12 07:11:00.060554: I tensorflow/core/common_runtime/bfc_allocator.cc:1017] Bin (524288): \tTotal Chunks: 2, Chunks in use: 2. 1.12MiB allocated for chunks. 1.12MiB in use in bin. 1.00MiB client-requested in use in bin.\n",
      "2023-10-12 07:11:00.060559: I tensorflow/core/common_runtime/bfc_allocator.cc:1017] Bin (1048576): \tTotal Chunks: 0, Chunks in use: 0. 0B allocated for chunks. 0B in use in bin. 0B client-requested in use in bin.\n",
      "2023-10-12 07:11:00.060564: I tensorflow/core/common_runtime/bfc_allocator.cc:1017] Bin (2097152): \tTotal Chunks: 0, Chunks in use: 0. 0B allocated for chunks. 0B in use in bin. 0B client-requested in use in bin.\n",
      "2023-10-12 07:11:00.060568: I tensorflow/core/common_runtime/bfc_allocator.cc:1017] Bin (4194304): \tTotal Chunks: 1, Chunks in use: 1. 6.00MiB allocated for chunks. 6.00MiB in use in bin. 6.00MiB client-requested in use in bin.\n",
      "2023-10-12 07:11:00.060574: I tensorflow/core/common_runtime/bfc_allocator.cc:1017] Bin (8388608): \tTotal Chunks: 1, Chunks in use: 1. 10.50MiB allocated for chunks. 10.50MiB in use in bin. 6.00MiB client-requested in use in bin.\n",
      "2023-10-12 07:11:00.060579: I tensorflow/core/common_runtime/bfc_allocator.cc:1017] Bin (16777216): \tTotal Chunks: 0, Chunks in use: 0. 0B allocated for chunks. 0B in use in bin. 0B client-requested in use in bin.\n",
      "2023-10-12 07:11:00.060585: I tensorflow/core/common_runtime/bfc_allocator.cc:1017] Bin (33554432): \tTotal Chunks: 0, Chunks in use: 0. 0B allocated for chunks. 0B in use in bin. 0B client-requested in use in bin.\n",
      "2023-10-12 07:11:00.060589: I tensorflow/core/common_runtime/bfc_allocator.cc:1017] Bin (67108864): \tTotal Chunks: 0, Chunks in use: 0. 0B allocated for chunks. 0B in use in bin. 0B client-requested in use in bin.\n",
      "2023-10-12 07:11:00.060594: I tensorflow/core/common_runtime/bfc_allocator.cc:1017] Bin (134217728): \tTotal Chunks: 0, Chunks in use: 0. 0B allocated for chunks. 0B in use in bin. 0B client-requested in use in bin.\n",
      "2023-10-12 07:11:00.060599: I tensorflow/core/common_runtime/bfc_allocator.cc:1017] Bin (268435456): \tTotal Chunks: 1, Chunks in use: 1. 659.00MiB allocated for chunks. 659.00MiB in use in bin. 585.94MiB client-requested in use in bin.\n",
      "2023-10-12 07:11:00.060605: I tensorflow/core/common_runtime/bfc_allocator.cc:1033] Bin for 5.0KiB was 4.0KiB, Chunk State: \n",
      "2023-10-12 07:11:00.060609: I tensorflow/core/common_runtime/bfc_allocator.cc:1046] Next region of size 709885952\n",
      "2023-10-12 07:11:00.060615: I tensorflow/core/common_runtime/bfc_allocator.cc:1066] InUse at 7f3930000000 of size 256 next 1\n",
      "2023-10-12 07:11:00.060620: I tensorflow/core/common_runtime/bfc_allocator.cc:1066] InUse at 7f3930000100 of size 1280 next 2\n",
      "2023-10-12 07:11:00.060624: I tensorflow/core/common_runtime/bfc_allocator.cc:1066] InUse at 7f3930000600 of size 256 next 3\n",
      "2023-10-12 07:11:00.060628: I tensorflow/core/common_runtime/bfc_allocator.cc:1066] InUse at 7f3930000700 of size 256 next 4\n",
      "2023-10-12 07:11:00.060632: I tensorflow/core/common_runtime/bfc_allocator.cc:1066] InUse at 7f3930000800 of size 256 next 5\n",
      "2023-10-12 07:11:00.060636: I tensorflow/core/common_runtime/bfc_allocator.cc:1066] InUse at 7f3930000900 of size 2048 next 6\n",
      "2023-10-12 07:11:00.060640: I tensorflow/core/common_runtime/bfc_allocator.cc:1066] InUse at 7f3930001100 of size 256 next 9\n",
      "2023-10-12 07:11:00.060644: I tensorflow/core/common_runtime/bfc_allocator.cc:1066] InUse at 7f3930001200 of size 256 next 10\n",
      "2023-10-12 07:11:00.060648: I tensorflow/core/common_runtime/bfc_allocator.cc:1066] InUse at 7f3930001300 of size 1024 next 11\n",
      "2023-10-12 07:11:00.060652: I tensorflow/core/common_runtime/bfc_allocator.cc:1066] InUse at 7f3930001700 of size 256 next 12\n",
      "2023-10-12 07:11:00.060658: I tensorflow/core/common_runtime/bfc_allocator.cc:1066] InUse at 7f3930001800 of size 256 next 15\n",
      "2023-10-12 07:11:00.060662: I tensorflow/core/common_runtime/bfc_allocator.cc:1066] InUse at 7f3930001900 of size 512 next 16\n",
      "2023-10-12 07:11:00.060666: I tensorflow/core/common_runtime/bfc_allocator.cc:1066] InUse at 7f3930001b00 of size 256 next 17\n",
      "2023-10-12 07:11:00.060670: I tensorflow/core/common_runtime/bfc_allocator.cc:1066] InUse at 7f3930001c00 of size 256 next 20\n",
      "2023-10-12 07:11:00.060674: I tensorflow/core/common_runtime/bfc_allocator.cc:1066] InUse at 7f3930001d00 of size 256 next 21\n",
      "2023-10-12 07:11:00.060678: I tensorflow/core/common_runtime/bfc_allocator.cc:1066] InUse at 7f3930001e00 of size 256 next 22\n",
      "2023-10-12 07:11:00.060682: I tensorflow/core/common_runtime/bfc_allocator.cc:1066] InUse at 7f3930001f00 of size 256 next 25\n",
      "2023-10-12 07:11:00.060686: I tensorflow/core/common_runtime/bfc_allocator.cc:1066] InUse at 7f3930002000 of size 256 next 26\n",
      "2023-10-12 07:11:00.060690: I tensorflow/core/common_runtime/bfc_allocator.cc:1066] InUse at 7f3930002100 of size 256 next 28\n",
      "2023-10-12 07:11:00.060694: I tensorflow/core/common_runtime/bfc_allocator.cc:1066] InUse at 7f3930002200 of size 256 next 29\n",
      "2023-10-12 07:11:00.060697: I tensorflow/core/common_runtime/bfc_allocator.cc:1066] InUse at 7f3930002300 of size 256 next 30\n",
      "2023-10-12 07:11:00.060701: I tensorflow/core/common_runtime/bfc_allocator.cc:1066] InUse at 7f3930002400 of size 256 next 31\n",
      "2023-10-12 07:11:00.060705: I tensorflow/core/common_runtime/bfc_allocator.cc:1066] InUse at 7f3930002500 of size 256 next 32\n",
      "2023-10-12 07:11:00.060709: I tensorflow/core/common_runtime/bfc_allocator.cc:1066] InUse at 7f3930002600 of size 256 next 33\n",
      "2023-10-12 07:11:00.060713: I tensorflow/core/common_runtime/bfc_allocator.cc:1066] InUse at 7f3930002700 of size 256 next 34\n",
      "2023-10-12 07:11:00.060717: I tensorflow/core/common_runtime/bfc_allocator.cc:1066] InUse at 7f3930002800 of size 256 next 35\n",
      "2023-10-12 07:11:00.060720: I tensorflow/core/common_runtime/bfc_allocator.cc:1066] InUse at 7f3930002900 of size 2048 next 36\n",
      "2023-10-12 07:11:00.060724: I tensorflow/core/common_runtime/bfc_allocator.cc:1066] InUse at 7f3930003100 of size 1024 next 37\n",
      "2023-10-12 07:11:00.060728: I tensorflow/core/common_runtime/bfc_allocator.cc:1066] InUse at 7f3930003500 of size 512 next 38\n",
      "2023-10-12 07:11:00.060732: I tensorflow/core/common_runtime/bfc_allocator.cc:1066] Free  at 7f3930003700 of size 3840 next 23\n",
      "2023-10-12 07:11:00.060736: I tensorflow/core/common_runtime/bfc_allocator.cc:1066] InUse at 7f3930004600 of size 5120 next 24\n",
      "2023-10-12 07:11:00.060740: I tensorflow/core/common_runtime/bfc_allocator.cc:1066] InUse at 7f3930005a00 of size 50176 next 27\n",
      "2023-10-12 07:11:00.060744: I tensorflow/core/common_runtime/bfc_allocator.cc:1066] InUse at 7f3930011e00 of size 195584 next 18\n",
      "2023-10-12 07:11:00.060748: I tensorflow/core/common_runtime/bfc_allocator.cc:1066] InUse at 7f3930041a00 of size 131072 next 19\n",
      "2023-10-12 07:11:00.060752: I tensorflow/core/common_runtime/bfc_allocator.cc:1066] InUse at 7f3930061a00 of size 653824 next 13\n",
      "2023-10-12 07:11:00.060756: I tensorflow/core/common_runtime/bfc_allocator.cc:1066] InUse at 7f3930101400 of size 524288 next 14\n",
      "2023-10-12 07:11:00.060760: I tensorflow/core/common_runtime/bfc_allocator.cc:1066] InUse at 7f3930181400 of size 11007232 next 7\n",
      "2023-10-12 07:11:00.060764: I tensorflow/core/common_runtime/bfc_allocator.cc:1066] InUse at 7f3930c00900 of size 6291456 next 8\n",
      "2023-10-12 07:11:00.060768: I tensorflow/core/common_runtime/bfc_allocator.cc:1066] InUse at 7f3931200900 of size 691009280 next 18446744073709551615\n",
      "2023-10-12 07:11:00.060772: I tensorflow/core/common_runtime/bfc_allocator.cc:1071]      Summary of in-use Chunks by size: \n",
      "2023-10-12 07:11:00.060777: I tensorflow/core/common_runtime/bfc_allocator.cc:1074] 22 Chunks of size 256 totalling 5.5KiB\n",
      "2023-10-12 07:11:00.060782: I tensorflow/core/common_runtime/bfc_allocator.cc:1074] 2 Chunks of size 512 totalling 1.0KiB\n",
      "2023-10-12 07:11:00.060787: I tensorflow/core/common_runtime/bfc_allocator.cc:1074] 2 Chunks of size 1024 totalling 2.0KiB\n",
      "2023-10-12 07:11:00.060792: I tensorflow/core/common_runtime/bfc_allocator.cc:1074] 1 Chunks of size 1280 totalling 1.2KiB\n",
      "2023-10-12 07:11:00.060796: I tensorflow/core/common_runtime/bfc_allocator.cc:1074] 2 Chunks of size 2048 totalling 4.0KiB\n",
      "2023-10-12 07:11:00.060800: I tensorflow/core/common_runtime/bfc_allocator.cc:1074] 1 Chunks of size 5120 totalling 5.0KiB\n",
      "2023-10-12 07:11:00.060805: I tensorflow/core/common_runtime/bfc_allocator.cc:1074] 1 Chunks of size 50176 totalling 49.0KiB\n",
      "2023-10-12 07:11:00.060809: I tensorflow/core/common_runtime/bfc_allocator.cc:1074] 1 Chunks of size 131072 totalling 128.0KiB\n",
      "2023-10-12 07:11:00.060814: I tensorflow/core/common_runtime/bfc_allocator.cc:1074] 1 Chunks of size 195584 totalling 191.0KiB\n",
      "2023-10-12 07:11:00.060818: I tensorflow/core/common_runtime/bfc_allocator.cc:1074] 1 Chunks of size 524288 totalling 512.0KiB\n",
      "2023-10-12 07:11:00.060823: I tensorflow/core/common_runtime/bfc_allocator.cc:1074] 1 Chunks of size 653824 totalling 638.5KiB\n",
      "2023-10-12 07:11:00.060827: I tensorflow/core/common_runtime/bfc_allocator.cc:1074] 1 Chunks of size 6291456 totalling 6.00MiB\n",
      "2023-10-12 07:11:00.060832: I tensorflow/core/common_runtime/bfc_allocator.cc:1074] 1 Chunks of size 11007232 totalling 10.50MiB\n",
      "2023-10-12 07:11:00.060837: I tensorflow/core/common_runtime/bfc_allocator.cc:1074] 1 Chunks of size 691009280 totalling 659.00MiB\n",
      "2023-10-12 07:11:00.060841: I tensorflow/core/common_runtime/bfc_allocator.cc:1078] Sum Total of in-use chunks: 677.00MiB\n",
      "2023-10-12 07:11:00.060845: I tensorflow/core/common_runtime/bfc_allocator.cc:1080] total_region_allocated_bytes_: 709885952 memory_limit_: 709885952 available bytes: 0 curr_region_allocation_bytes_: 1419771904\n",
      "2023-10-12 07:11:00.060852: I tensorflow/core/common_runtime/bfc_allocator.cc:1086] Stats: \n",
      "Limit:                       709885952\n",
      "InUse:                       709882112\n",
      "MaxInUse:                    709882112\n",
      "NumAllocs:                          50\n",
      "MaxAllocSize:                691009280\n",
      "Reserved:                            0\n",
      "PeakReserved:                        0\n",
      "LargestFreeBlock:                    0\n",
      "\n",
      "2023-10-12 07:11:00.060858: W tensorflow/core/common_runtime/bfc_allocator.cc:474] ******************************************************************************************xxxxxxxxxx\n",
      "2023-10-12 07:11:00.060878: W tensorflow/core/framework/op_kernel.cc:1745] OP_REQUIRES failed at constant_op.cc:175 : RESOURCE_EXHAUSTED: OOM when allocating tensor with shape[128,10] and type float on /job:localhost/replica:0/task:0/device:GPU:0 by allocator GPU_0_bfc\n"
     ]
    },
    {
     "ename": "ResourceExhaustedError",
     "evalue": "in user code:\n\n    File \"/home/danieldu/anaconda3/envs/protonx/lib/python3.8/site-packages/keras/engine/training.py\", line 1021, in train_function  *\n        return step_function(self, iterator)\n    File \"/home/danieldu/anaconda3/envs/protonx/lib/python3.8/site-packages/keras/engine/training.py\", line 1010, in step_function  **\n        outputs = model.distribute_strategy.run(run_step, args=(data,))\n    File \"/home/danieldu/anaconda3/envs/protonx/lib/python3.8/site-packages/keras/engine/training.py\", line 1000, in run_step  **\n        outputs = model.train_step(data)\n    File \"/home/danieldu/anaconda3/envs/protonx/lib/python3.8/site-packages/keras/engine/training.py\", line 863, in train_step\n        self.optimizer.minimize(loss, self.trainable_variables, tape=tape)\n    File \"/home/danieldu/anaconda3/envs/protonx/lib/python3.8/site-packages/keras/optimizer_v2/optimizer_v2.py\", line 532, in minimize\n        return self.apply_gradients(grads_and_vars, name=name)\n    File \"/home/danieldu/anaconda3/envs/protonx/lib/python3.8/site-packages/keras/optimizer_v2/optimizer_v2.py\", line 639, in apply_gradients\n        self._create_all_weights(var_list)\n    File \"/home/danieldu/anaconda3/envs/protonx/lib/python3.8/site-packages/keras/optimizer_v2/optimizer_v2.py\", line 825, in _create_all_weights\n        self._create_slots(var_list)\n    File \"/home/danieldu/anaconda3/envs/protonx/lib/python3.8/site-packages/keras/optimizer_v2/adam.py\", line 117, in _create_slots\n        self.add_slot(var, 'm')\n    File \"/home/danieldu/anaconda3/envs/protonx/lib/python3.8/site-packages/keras/optimizer_v2/optimizer_v2.py\", line 911, in add_slot\n        weight = tf.Variable(\n    File \"/home/danieldu/anaconda3/envs/protonx/lib/python3.8/site-packages/keras/initializers/initializers_v2.py\", line 145, in __call__\n        return tf.zeros(shape, dtype)\n\n    ResourceExhaustedError: OOM when allocating tensor with shape[128,10] and type float on /job:localhost/replica:0/task:0/device:GPU:0 by allocator GPU_0_bfc [Op:Fill]\n",
     "output_type": "error",
     "traceback": [
      "\u001b[0;31m---------------------------------------------------------------------------\u001b[0m",
      "\u001b[0;31mResourceExhaustedError\u001b[0m                    Traceback (most recent call last)",
      "\u001b[1;32m/home/danieldu/TensorflowCertificate/notebook/neuralNetwork/cifar100.ipynb Cell 4\u001b[0m line \u001b[0;36m3\n\u001b[1;32m      <a href='vscode-notebook-cell:/home/danieldu/TensorflowCertificate/notebook/neuralNetwork/cifar100.ipynb#W3sZmlsZQ%3D%3D?line=0'>1</a>\u001b[0m \u001b[39m# Train model \u001b[39;00m\n\u001b[1;32m      <a href='vscode-notebook-cell:/home/danieldu/TensorflowCertificate/notebook/neuralNetwork/cifar100.ipynb#W3sZmlsZQ%3D%3D?line=1'>2</a>\u001b[0m model\u001b[39m.\u001b[39mcompile(loss\u001b[39m=\u001b[39m\u001b[39m'\u001b[39m\u001b[39msparse_categorical_crossentropy\u001b[39m\u001b[39m'\u001b[39m, optimizer\u001b[39m=\u001b[39m\u001b[39m'\u001b[39m\u001b[39madam\u001b[39m\u001b[39m'\u001b[39m, metrics\u001b[39m=\u001b[39m[\u001b[39m'\u001b[39m\u001b[39maccuracy\u001b[39m\u001b[39m'\u001b[39m])\n\u001b[0;32m----> <a href='vscode-notebook-cell:/home/danieldu/TensorflowCertificate/notebook/neuralNetwork/cifar100.ipynb#W3sZmlsZQ%3D%3D?line=2'>3</a>\u001b[0m model\u001b[39m.\u001b[39;49mfit(\n\u001b[1;32m      <a href='vscode-notebook-cell:/home/danieldu/TensorflowCertificate/notebook/neuralNetwork/cifar100.ipynb#W3sZmlsZQ%3D%3D?line=3'>4</a>\u001b[0m     train_images,\n\u001b[1;32m      <a href='vscode-notebook-cell:/home/danieldu/TensorflowCertificate/notebook/neuralNetwork/cifar100.ipynb#W3sZmlsZQ%3D%3D?line=4'>5</a>\u001b[0m     train_labels,\n\u001b[1;32m      <a href='vscode-notebook-cell:/home/danieldu/TensorflowCertificate/notebook/neuralNetwork/cifar100.ipynb#W3sZmlsZQ%3D%3D?line=5'>6</a>\u001b[0m     epochs\u001b[39m=\u001b[39;49m\u001b[39m1000\u001b[39;49m,\n\u001b[1;32m      <a href='vscode-notebook-cell:/home/danieldu/TensorflowCertificate/notebook/neuralNetwork/cifar100.ipynb#W3sZmlsZQ%3D%3D?line=6'>7</a>\u001b[0m     batch_size\u001b[39m=\u001b[39;49m\u001b[39m256\u001b[39;49m,\n\u001b[1;32m      <a href='vscode-notebook-cell:/home/danieldu/TensorflowCertificate/notebook/neuralNetwork/cifar100.ipynb#W3sZmlsZQ%3D%3D?line=7'>8</a>\u001b[0m     verbose\u001b[39m=\u001b[39;49m\u001b[39m1\u001b[39;49m,\n\u001b[1;32m      <a href='vscode-notebook-cell:/home/danieldu/TensorflowCertificate/notebook/neuralNetwork/cifar100.ipynb#W3sZmlsZQ%3D%3D?line=8'>9</a>\u001b[0m     validation_data\u001b[39m=\u001b[39;49m(test_images, test_labels))\n",
      "File \u001b[0;32m~/anaconda3/envs/protonx/lib/python3.8/site-packages/keras/utils/traceback_utils.py:67\u001b[0m, in \u001b[0;36mfilter_traceback.<locals>.error_handler\u001b[0;34m(*args, **kwargs)\u001b[0m\n\u001b[1;32m     65\u001b[0m \u001b[39mexcept\u001b[39;00m \u001b[39mException\u001b[39;00m \u001b[39mas\u001b[39;00m e:  \u001b[39m# pylint: disable=broad-except\u001b[39;00m\n\u001b[1;32m     66\u001b[0m   filtered_tb \u001b[39m=\u001b[39m _process_traceback_frames(e\u001b[39m.\u001b[39m__traceback__)\n\u001b[0;32m---> 67\u001b[0m   \u001b[39mraise\u001b[39;00m e\u001b[39m.\u001b[39mwith_traceback(filtered_tb) \u001b[39mfrom\u001b[39;00m \u001b[39mNone\u001b[39;00m\n\u001b[1;32m     68\u001b[0m \u001b[39mfinally\u001b[39;00m:\n\u001b[1;32m     69\u001b[0m   \u001b[39mdel\u001b[39;00m filtered_tb\n",
      "File \u001b[0;32m~/anaconda3/envs/protonx/lib/python3.8/site-packages/tensorflow/python/framework/func_graph.py:1147\u001b[0m, in \u001b[0;36mfunc_graph_from_py_func.<locals>.autograph_handler\u001b[0;34m(*args, **kwargs)\u001b[0m\n\u001b[1;32m   1145\u001b[0m \u001b[39mexcept\u001b[39;00m \u001b[39mException\u001b[39;00m \u001b[39mas\u001b[39;00m e:  \u001b[39m# pylint:disable=broad-except\u001b[39;00m\n\u001b[1;32m   1146\u001b[0m   \u001b[39mif\u001b[39;00m \u001b[39mhasattr\u001b[39m(e, \u001b[39m\"\u001b[39m\u001b[39mag_error_metadata\u001b[39m\u001b[39m\"\u001b[39m):\n\u001b[0;32m-> 1147\u001b[0m     \u001b[39mraise\u001b[39;00m e\u001b[39m.\u001b[39mag_error_metadata\u001b[39m.\u001b[39mto_exception(e)\n\u001b[1;32m   1148\u001b[0m   \u001b[39melse\u001b[39;00m:\n\u001b[1;32m   1149\u001b[0m     \u001b[39mraise\u001b[39;00m\n",
      "\u001b[0;31mResourceExhaustedError\u001b[0m: in user code:\n\n    File \"/home/danieldu/anaconda3/envs/protonx/lib/python3.8/site-packages/keras/engine/training.py\", line 1021, in train_function  *\n        return step_function(self, iterator)\n    File \"/home/danieldu/anaconda3/envs/protonx/lib/python3.8/site-packages/keras/engine/training.py\", line 1010, in step_function  **\n        outputs = model.distribute_strategy.run(run_step, args=(data,))\n    File \"/home/danieldu/anaconda3/envs/protonx/lib/python3.8/site-packages/keras/engine/training.py\", line 1000, in run_step  **\n        outputs = model.train_step(data)\n    File \"/home/danieldu/anaconda3/envs/protonx/lib/python3.8/site-packages/keras/engine/training.py\", line 863, in train_step\n        self.optimizer.minimize(loss, self.trainable_variables, tape=tape)\n    File \"/home/danieldu/anaconda3/envs/protonx/lib/python3.8/site-packages/keras/optimizer_v2/optimizer_v2.py\", line 532, in minimize\n        return self.apply_gradients(grads_and_vars, name=name)\n    File \"/home/danieldu/anaconda3/envs/protonx/lib/python3.8/site-packages/keras/optimizer_v2/optimizer_v2.py\", line 639, in apply_gradients\n        self._create_all_weights(var_list)\n    File \"/home/danieldu/anaconda3/envs/protonx/lib/python3.8/site-packages/keras/optimizer_v2/optimizer_v2.py\", line 825, in _create_all_weights\n        self._create_slots(var_list)\n    File \"/home/danieldu/anaconda3/envs/protonx/lib/python3.8/site-packages/keras/optimizer_v2/adam.py\", line 117, in _create_slots\n        self.add_slot(var, 'm')\n    File \"/home/danieldu/anaconda3/envs/protonx/lib/python3.8/site-packages/keras/optimizer_v2/optimizer_v2.py\", line 911, in add_slot\n        weight = tf.Variable(\n    File \"/home/danieldu/anaconda3/envs/protonx/lib/python3.8/site-packages/keras/initializers/initializers_v2.py\", line 145, in __call__\n        return tf.zeros(shape, dtype)\n\n    ResourceExhaustedError: OOM when allocating tensor with shape[128,10] and type float on /job:localhost/replica:0/task:0/device:GPU:0 by allocator GPU_0_bfc [Op:Fill]\n"
     ]
    }
   ],
   "source": [
    "# Train model \n",
    "model.compile(loss='sparse_categorical_crossentropy', optimizer='adam', metrics=['accuracy'])\n",
    "model.fit(\n",
    "    train_images,\n",
    "    train_labels,\n",
    "    epochs=1000,\n",
    "    batch_size=256,\n",
    "    verbose=1,\n",
    "    validation_data=(test_images, test_labels))"
   ]
  },
  {
   "cell_type": "code",
   "execution_count": null,
   "metadata": {},
   "outputs": [],
   "source": [
    "# Lưu Model và nộp \n",
    "model.save(\"cifar100.h5\")"
   ]
  }
 ],
 "metadata": {
  "kernelspec": {
   "display_name": "protonx",
   "language": "python",
   "name": "python3"
  },
  "language_info": {
   "codemirror_mode": {
    "name": "ipython",
    "version": 3
   },
   "file_extension": ".py",
   "mimetype": "text/x-python",
   "name": "python",
   "nbconvert_exporter": "python",
   "pygments_lexer": "ipython3",
   "version": "3.8.18"
  }
 },
 "nbformat": 4,
 "nbformat_minor": 2
}
