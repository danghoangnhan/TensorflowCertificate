{
  "cells": [
    {
      "cell_type": "code",
      "execution_count": 1,
      "metadata": {
        "colab": {},
        "colab_type": "code",
        "id": "it1c0jCiNCIM"
      },
      "outputs": [
        {
          "name": "stdout",
          "output_type": "stream",
          "text": [
            "/bin/bash: /home/danieldu/anaconda3/lib/libtinfo.so.6: no version information available (required by /bin/bash)\n",
            "wget: /home/danieldu/anaconda3/lib/libuuid.so.1: no version information available (required by wget)\n",
            "--2023-10-11 17:17:50--  https://storage.googleapis.com/learning-datasets/rps.zip\n",
            "Resolving storage.googleapis.com (storage.googleapis.com)... 172.217.163.59, 142.251.43.27, 172.217.160.91, ...\n",
            "Connecting to storage.googleapis.com (storage.googleapis.com)|172.217.163.59|:443... connected.\n",
            "HTTP request sent, awaiting response... 200 OK\n",
            "Length: 200682221 (191M) [application/zip]\n",
            "Saving to: ‘/tmp/rps.zip’\n",
            "\n",
            "/tmp/rps.zip        100%[===================>] 191.38M  27.5MB/s    in 7.2s    \n",
            "\n",
            "2023-10-11 17:17:57 (26.6 MB/s) - ‘/tmp/rps.zip’ saved [200682221/200682221]\n",
            "\n",
            "/bin/bash: /home/danieldu/anaconda3/lib/libtinfo.so.6: no version information available (required by /bin/bash)\n",
            "wget: /home/danieldu/anaconda3/lib/libuuid.so.1: no version information available (required by wget)\n",
            "--2023-10-11 17:17:58--  https://storage.googleapis.com/learning-datasets/rps-test-set.zip\n",
            "Resolving storage.googleapis.com (storage.googleapis.com)... 172.217.160.91, 142.251.42.251, 172.217.163.59, ...\n",
            "Connecting to storage.googleapis.com (storage.googleapis.com)|172.217.160.91|:443... connected.\n",
            "HTTP request sent, awaiting response... 200 OK\n",
            "Length: 29516758 (28M) [application/zip]\n",
            "Saving to: ‘/tmp/rps-test-set.zip’\n",
            "\n",
            "/tmp/rps-test-set.z 100%[===================>]  28.15M  12.9MB/s    in 2.2s    \n",
            "\n",
            "2023-10-11 17:18:00 (12.9 MB/s) - ‘/tmp/rps-test-set.zip’ saved [29516758/29516758]\n",
            "\n"
          ]
        }
      ],
      "source": [
        "!wget --no-check-certificate \\\n",
        "    https://storage.googleapis.com/learning-datasets/rps.zip \\\n",
        "    -O /tmp/rps.zip\n",
        "  \n",
        "!wget --no-check-certificate \\\n",
        "    https://storage.googleapis.com/learning-datasets/rps-test-set.zip \\\n",
        "    -O /tmp/rps-test-set.zip"
      ]
    },
    {
      "cell_type": "code",
      "execution_count": 2,
      "metadata": {
        "colab": {},
        "colab_type": "code",
        "id": "PnYP_HhYNVUK"
      },
      "outputs": [],
      "source": [
        "import zipfile\n",
        "\n",
        "def extract_file(local_zip,dir):\n",
        "    zip_ref = zipfile.ZipFile(local_zip, 'r')\n",
        "    zip_ref.extractall('/tmp/')\n",
        "    zip_ref.close()\n",
        "    \n",
        "extract_file('/tmp/rps.zip',dir)\n",
        "extract_file('/tmp/rps-test-set.zip','/tmp/')"
      ]
    },
    {
      "cell_type": "code",
      "execution_count": 3,
      "metadata": {
        "colab": {},
        "colab_type": "code",
        "id": "LWTisYLQM1aM"
      },
      "outputs": [
        {
          "name": "stdout",
          "output_type": "stream",
          "text": [
            "Found 2520 images belonging to 3 classes.\n",
            "Found 372 images belonging to 3 classes.\n"
          ]
        }
      ],
      "source": [
        "import os\n",
        "os.environ[\"CUDA_VISIBLE_DEVICES\"] = \"1\" \n",
        "import tensorflow as tf\n",
        "from keras_preprocessing.image import ImageDataGenerator\n",
        "\n",
        "TRAINING_DIR = \"/tmp/rps/\"\n",
        "training_datagen = ImageDataGenerator(\n",
        "      rescale = 1./255,\n",
        "\t    rotation_range=40,\n",
        "      width_shift_range=0.2,\n",
        "      height_shift_range=0.2,\n",
        "      shear_range=0.2,\n",
        "      zoom_range=0.2,\n",
        "      horizontal_flip=True,\n",
        "      fill_mode='nearest')\n",
        "\n",
        "VALIDATION_DIR = \"/tmp/rps-test-set/\"\n",
        "validation_datagen = ImageDataGenerator(rescale = 1./255)\n",
        "\n",
        "train_generator = training_datagen.flow_from_directory(\n",
        "\tTRAINING_DIR,\n",
        "\ttarget_size=(150,150),\n",
        "\tclass_mode='categorical',\n",
        "  batch_size=126\n",
        ")\n",
        "\n",
        "validation_generator = validation_datagen.flow_from_directory(\n",
        "\tVALIDATION_DIR,\n",
        "\ttarget_size=(150,150),\n",
        "\tclass_mode='categorical',\n",
        "  batch_size=126\n",
        ")\n",
        "\n"
      ]
    },
    {
      "cell_type": "code",
      "execution_count": 4,
      "metadata": {},
      "outputs": [
        {
          "name": "stdout",
          "output_type": "stream",
          "text": [
            "Model: \"sequential\"\n",
            "_________________________________________________________________\n",
            " Layer (type)                Output Shape              Param #   \n",
            "=================================================================\n",
            " conv2d (Conv2D)             (None, 148, 148, 64)      1792      \n",
            "                                                                 \n",
            " max_pooling2d (MaxPooling2D  (None, 74, 74, 64)       0         \n",
            " )                                                               \n",
            "                                                                 \n",
            " conv2d_1 (Conv2D)           (None, 72, 72, 64)        36928     \n",
            "                                                                 \n",
            " max_pooling2d_1 (MaxPooling  (None, 36, 36, 64)       0         \n",
            " 2D)                                                             \n",
            "                                                                 \n",
            " conv2d_2 (Conv2D)           (None, 34, 34, 128)       73856     \n",
            "                                                                 \n",
            " max_pooling2d_2 (MaxPooling  (None, 17, 17, 128)      0         \n",
            " 2D)                                                             \n",
            "                                                                 \n",
            " conv2d_3 (Conv2D)           (None, 15, 15, 128)       147584    \n",
            "                                                                 \n",
            " max_pooling2d_3 (MaxPooling  (None, 7, 7, 128)        0         \n",
            " 2D)                                                             \n",
            "                                                                 \n",
            " flatten (Flatten)           (None, 6272)              0         \n",
            "                                                                 \n",
            " dropout (Dropout)           (None, 6272)              0         \n",
            "                                                                 \n",
            " dense (Dense)               (None, 512)               3211776   \n",
            "                                                                 \n",
            " dense_1 (Dense)             (None, 3)                 1539      \n",
            "                                                                 \n",
            "=================================================================\n",
            "Total params: 3,473,475\n",
            "Trainable params: 3,473,475\n",
            "Non-trainable params: 0\n",
            "_________________________________________________________________\n"
          ]
        },
        {
          "name": "stderr",
          "output_type": "stream",
          "text": [
            "2023-10-11 17:18:02.688650: I tensorflow/stream_executor/cuda/cuda_gpu_executor.cc:936] successful NUMA node read from SysFS had negative value (-1), but there must be at least one NUMA node, so returning NUMA node zero\n",
            "2023-10-11 17:18:02.714786: I tensorflow/stream_executor/cuda/cuda_gpu_executor.cc:936] successful NUMA node read from SysFS had negative value (-1), but there must be at least one NUMA node, so returning NUMA node zero\n",
            "2023-10-11 17:18:02.714966: I tensorflow/stream_executor/cuda/cuda_gpu_executor.cc:936] successful NUMA node read from SysFS had negative value (-1), but there must be at least one NUMA node, so returning NUMA node zero\n",
            "2023-10-11 17:18:02.715532: I tensorflow/core/platform/cpu_feature_guard.cc:151] This TensorFlow binary is optimized with oneAPI Deep Neural Network Library (oneDNN) to use the following CPU instructions in performance-critical operations:  AVX2 FMA\n",
            "To enable them in other operations, rebuild TensorFlow with the appropriate compiler flags.\n",
            "2023-10-11 17:18:02.715879: I tensorflow/stream_executor/cuda/cuda_gpu_executor.cc:936] successful NUMA node read from SysFS had negative value (-1), but there must be at least one NUMA node, so returning NUMA node zero\n",
            "2023-10-11 17:18:02.716047: I tensorflow/stream_executor/cuda/cuda_gpu_executor.cc:936] successful NUMA node read from SysFS had negative value (-1), but there must be at least one NUMA node, so returning NUMA node zero\n",
            "2023-10-11 17:18:02.716325: I tensorflow/stream_executor/cuda/cuda_gpu_executor.cc:936] successful NUMA node read from SysFS had negative value (-1), but there must be at least one NUMA node, so returning NUMA node zero\n",
            "2023-10-11 17:18:03.001796: I tensorflow/stream_executor/cuda/cuda_gpu_executor.cc:936] successful NUMA node read from SysFS had negative value (-1), but there must be at least one NUMA node, so returning NUMA node zero\n",
            "2023-10-11 17:18:03.001993: I tensorflow/stream_executor/cuda/cuda_gpu_executor.cc:936] successful NUMA node read from SysFS had negative value (-1), but there must be at least one NUMA node, so returning NUMA node zero\n",
            "2023-10-11 17:18:03.002150: I tensorflow/stream_executor/cuda/cuda_gpu_executor.cc:936] successful NUMA node read from SysFS had negative value (-1), but there must be at least one NUMA node, so returning NUMA node zero\n",
            "2023-10-11 17:18:03.002282: I tensorflow/core/common_runtime/gpu/gpu_device.cc:1525] Created device /job:localhost/replica:0/task:0/device:GPU:0 with 6776 MB memory:  -> device: 0, name: NVIDIA GeForce RTX 2080, pci bus id: 0000:02:00.0, compute capability: 7.5\n"
          ]
        }
      ],
      "source": [
        "model = tf.keras.models.Sequential([\n",
        "    tf.keras.layers.Conv2D(64, (3,3), activation='relu', input_shape=(150, 150, 3)),\n",
        "    tf.keras.layers.MaxPooling2D(2, 2),\n",
        "    tf.keras.layers.Conv2D(64, (3,3), activation='relu'),\n",
        "    tf.keras.layers.MaxPooling2D(2,2),\n",
        "    tf.keras.layers.Conv2D(128, (3,3), activation='relu'),\n",
        "    tf.keras.layers.MaxPooling2D(2,2),\n",
        "    tf.keras.layers.Conv2D(128, (3,3), activation='relu'),\n",
        "    tf.keras.layers.MaxPooling2D(2,2),\n",
        "    tf.keras.layers.Flatten(),\n",
        "    tf.keras.layers.Dropout(0.5),\n",
        "    tf.keras.layers.Dense(512, activation='relu'),\n",
        "    tf.keras.layers.Dense(3, activation='softmax')\n",
        "])\n",
        "\n",
        "\n",
        "model.summary()"
      ]
    },
    {
      "cell_type": "code",
      "execution_count": 5,
      "metadata": {},
      "outputs": [
        {
          "name": "stdout",
          "output_type": "stream",
          "text": [
            "Epoch 1/100\n"
          ]
        },
        {
          "name": "stderr",
          "output_type": "stream",
          "text": [
            "2023-10-11 17:18:05.117687: I tensorflow/stream_executor/cuda/cuda_dnn.cc:368] Loaded cuDNN version 8500\n"
          ]
        },
        {
          "name": "stdout",
          "output_type": "stream",
          "text": [
            "20/20 [==============================] - 15s 632ms/step - loss: 1.2907 - accuracy: 0.3571 - val_loss: 1.0084 - val_accuracy: 0.5780\n",
            "Epoch 2/100\n",
            "20/20 [==============================] - 12s 619ms/step - loss: 1.3431 - accuracy: 0.3786 - val_loss: 1.0767 - val_accuracy: 0.4462\n",
            "Epoch 3/100\n",
            "20/20 [==============================] - 12s 616ms/step - loss: 1.1294 - accuracy: 0.4532 - val_loss: 1.0934 - val_accuracy: 0.3333\n",
            "Epoch 4/100\n",
            "20/20 [==============================] - 12s 608ms/step - loss: 0.9913 - accuracy: 0.4873 - val_loss: 0.6913 - val_accuracy: 0.7285\n",
            "Epoch 5/100\n",
            "20/20 [==============================] - 13s 630ms/step - loss: 0.8867 - accuracy: 0.6004 - val_loss: 0.5667 - val_accuracy: 0.6640\n",
            "Epoch 6/100\n",
            "20/20 [==============================] - 12s 620ms/step - loss: 0.7636 - accuracy: 0.6587 - val_loss: 0.7131 - val_accuracy: 0.6102\n",
            "Epoch 7/100\n",
            "20/20 [==============================] - 12s 618ms/step - loss: 0.6697 - accuracy: 0.7167 - val_loss: 0.2747 - val_accuracy: 0.9516\n",
            "Epoch 8/100\n",
            "20/20 [==============================] - 12s 609ms/step - loss: 0.5033 - accuracy: 0.7869 - val_loss: 0.2370 - val_accuracy: 0.9140\n",
            "Epoch 9/100\n",
            "20/20 [==============================] - 13s 627ms/step - loss: 0.4373 - accuracy: 0.8167 - val_loss: 0.8702 - val_accuracy: 0.6478\n",
            "Epoch 10/100\n",
            "20/20 [==============================] - 12s 610ms/step - loss: 0.3994 - accuracy: 0.8528 - val_loss: 0.1080 - val_accuracy: 0.9489\n",
            "Epoch 11/100\n",
            "20/20 [==============================] - 12s 617ms/step - loss: 0.3157 - accuracy: 0.8694 - val_loss: 0.1096 - val_accuracy: 0.9758\n",
            "Epoch 12/100\n",
            "20/20 [==============================] - 13s 635ms/step - loss: 0.2550 - accuracy: 0.9139 - val_loss: 0.1167 - val_accuracy: 0.9839\n",
            "Epoch 13/100\n",
            " 5/20 [======>.......................] - ETA: 8s - loss: 0.3064 - accuracy: 0.8635"
          ]
        }
      ],
      "source": [
        "model.compile(loss = 'categorical_crossentropy', optimizer='rmsprop', metrics=['accuracy'])\n",
        "history = model.fit(\n",
        "  train_generator,\n",
        "  epochs=100,\n",
        "  steps_per_epoch=20,\n",
        "  validation_data = validation_generator,\n",
        "  verbose = 1,\n",
        "  batch_size=64,\n",
        "  validation_steps=3)"
      ]
    },
    {
      "cell_type": "code",
      "execution_count": null,
      "metadata": {
        "colab": {},
        "colab_type": "code",
        "id": "aeTRVCr6aosw"
      },
      "outputs": [],
      "source": [
        "model.save(\"rps.h5\")\n"
      ]
    }
  ],
  "metadata": {
    "accelerator": "GPU",
    "colab": {
      "include_colab_link": true,
      "name": "Course 2 - Part 8 - Lesson 2 - Notebook (RockPaperScissors).ipynb",
      "provenance": [],
      "toc_visible": true
    },
    "kernelspec": {
      "display_name": "Python 3",
      "name": "python3"
    },
    "language_info": {
      "codemirror_mode": {
        "name": "ipython",
        "version": 3
      },
      "file_extension": ".py",
      "mimetype": "text/x-python",
      "name": "python",
      "nbconvert_exporter": "python",
      "pygments_lexer": "ipython3",
      "version": "3.8.18"
    }
  },
  "nbformat": 4,
  "nbformat_minor": 0
}
