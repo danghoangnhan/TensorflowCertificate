{
 "cells": [
  {
   "cell_type": "code",
   "execution_count": 1,
   "metadata": {},
   "outputs": [
    {
     "name": "stdout",
     "output_type": "stream",
     "text": [
      "2.8.0\n"
     ]
    }
   ],
   "source": [
    "import tensorflow as tf\n",
    "import numpy as np\n",
    "import matplotlib.pyplot as plt\n",
    "print(tf.__version__)"
   ]
  },
  {
   "cell_type": "code",
   "execution_count": 2,
   "metadata": {},
   "outputs": [
    {
     "data": {
      "text/plain": [
       "(60000, 784)"
      ]
     },
     "execution_count": 2,
     "metadata": {},
     "output_type": "execute_result"
    }
   ],
   "source": [
    "(train_images, train_labels), (test_images, test_labels) = tf.keras.datasets.mnist.load_data()\n",
    "train_images = train_images / 255\n",
    "test_images = test_images / 255\n",
    "train_images = train_images.reshape(60000, 784)\n",
    "test_images = test_images.reshape(10000, 784)\n",
    "train_images.shape"
   ]
  },
  {
   "cell_type": "code",
   "execution_count": 3,
   "metadata": {},
   "outputs": [
    {
     "name": "stderr",
     "output_type": "stream",
     "text": [
      "2023-10-12 19:50:14.286975: I tensorflow/stream_executor/cuda/cuda_gpu_executor.cc:936] successful NUMA node read from SysFS had negative value (-1), but there must be at least one NUMA node, so returning NUMA node zero\n",
      "2023-10-12 19:50:14.287155: I tensorflow/stream_executor/cuda/cuda_gpu_executor.cc:936] successful NUMA node read from SysFS had negative value (-1), but there must be at least one NUMA node, so returning NUMA node zero\n",
      "2023-10-12 19:50:14.313517: I tensorflow/stream_executor/cuda/cuda_gpu_executor.cc:936] successful NUMA node read from SysFS had negative value (-1), but there must be at least one NUMA node, so returning NUMA node zero\n",
      "2023-10-12 19:50:14.313707: I tensorflow/stream_executor/cuda/cuda_gpu_executor.cc:936] successful NUMA node read from SysFS had negative value (-1), but there must be at least one NUMA node, so returning NUMA node zero\n",
      "2023-10-12 19:50:14.313855: I tensorflow/stream_executor/cuda/cuda_gpu_executor.cc:936] successful NUMA node read from SysFS had negative value (-1), but there must be at least one NUMA node, so returning NUMA node zero\n",
      "2023-10-12 19:50:14.313998: I tensorflow/stream_executor/cuda/cuda_gpu_executor.cc:936] successful NUMA node read from SysFS had negative value (-1), but there must be at least one NUMA node, so returning NUMA node zero\n",
      "2023-10-12 19:50:14.314382: I tensorflow/core/platform/cpu_feature_guard.cc:151] This TensorFlow binary is optimized with oneAPI Deep Neural Network Library (oneDNN) to use the following CPU instructions in performance-critical operations:  AVX2 FMA\n",
      "To enable them in other operations, rebuild TensorFlow with the appropriate compiler flags.\n",
      "2023-10-12 19:50:14.426123: I tensorflow/stream_executor/cuda/cuda_gpu_executor.cc:936] successful NUMA node read from SysFS had negative value (-1), but there must be at least one NUMA node, so returning NUMA node zero\n",
      "2023-10-12 19:50:14.426305: I tensorflow/stream_executor/cuda/cuda_gpu_executor.cc:936] successful NUMA node read from SysFS had negative value (-1), but there must be at least one NUMA node, so returning NUMA node zero\n",
      "2023-10-12 19:50:14.426454: I tensorflow/stream_executor/cuda/cuda_gpu_executor.cc:936] successful NUMA node read from SysFS had negative value (-1), but there must be at least one NUMA node, so returning NUMA node zero\n",
      "2023-10-12 19:50:14.426592: I tensorflow/stream_executor/cuda/cuda_gpu_executor.cc:936] successful NUMA node read from SysFS had negative value (-1), but there must be at least one NUMA node, so returning NUMA node zero\n",
      "2023-10-12 19:50:14.426728: I tensorflow/stream_executor/cuda/cuda_gpu_executor.cc:936] successful NUMA node read from SysFS had negative value (-1), but there must be at least one NUMA node, so returning NUMA node zero\n",
      "2023-10-12 19:50:14.426874: I tensorflow/stream_executor/cuda/cuda_gpu_executor.cc:936] successful NUMA node read from SysFS had negative value (-1), but there must be at least one NUMA node, so returning NUMA node zero\n",
      "2023-10-12 19:50:14.821414: I tensorflow/stream_executor/cuda/cuda_gpu_executor.cc:936] successful NUMA node read from SysFS had negative value (-1), but there must be at least one NUMA node, so returning NUMA node zero\n",
      "2023-10-12 19:50:14.821619: I tensorflow/stream_executor/cuda/cuda_gpu_executor.cc:936] successful NUMA node read from SysFS had negative value (-1), but there must be at least one NUMA node, so returning NUMA node zero\n",
      "2023-10-12 19:50:14.821768: I tensorflow/stream_executor/cuda/cuda_gpu_executor.cc:936] successful NUMA node read from SysFS had negative value (-1), but there must be at least one NUMA node, so returning NUMA node zero\n",
      "2023-10-12 19:50:14.821912: I tensorflow/stream_executor/cuda/cuda_gpu_executor.cc:936] successful NUMA node read from SysFS had negative value (-1), but there must be at least one NUMA node, so returning NUMA node zero\n",
      "2023-10-12 19:50:14.822052: I tensorflow/stream_executor/cuda/cuda_gpu_executor.cc:936] successful NUMA node read from SysFS had negative value (-1), but there must be at least one NUMA node, so returning NUMA node zero\n",
      "2023-10-12 19:50:14.822185: I tensorflow/core/common_runtime/gpu/gpu_device.cc:1525] Created device /job:localhost/replica:0/task:0/device:GPU:0 with 557 MB memory:  -> device: 0, name: NVIDIA GeForce RTX 2080, pci bus id: 0000:01:00.0, compute capability: 7.5\n",
      "2023-10-12 19:50:14.822501: I tensorflow/stream_executor/cuda/cuda_gpu_executor.cc:936] successful NUMA node read from SysFS had negative value (-1), but there must be at least one NUMA node, so returning NUMA node zero\n",
      "2023-10-12 19:50:14.822623: I tensorflow/core/common_runtime/gpu/gpu_device.cc:1525] Created device /job:localhost/replica:0/task:0/device:GPU:1 with 6639 MB memory:  -> device: 1, name: NVIDIA GeForce RTX 2080, pci bus id: 0000:02:00.0, compute capability: 7.5\n"
     ]
    }
   ],
   "source": [
    "model = tf.keras.models.Sequential([\n",
    "     tf.keras.layers.Flatten(input_shape=(28,28)), \n",
    "    tf.keras.layers.Dense(512, activation='relu'),\n",
    "    tf.keras.layers.Activation('relu'),\n",
    "    tf.keras.layers.Dropout(0.3),\n",
    "    tf.keras.layers.Dense(256, activation='relu'),\n",
    "    tf.keras.layers.Dropout(0.3),\n",
    "    tf.keras.layers.Dense(128, activation='relu'),\n",
    "    tf.keras.layers.Dropout(0.3),\n",
    "    tf.keras.layers.Dense(10, activation='softmax')\n",
    "])"
   ]
  },
  {
   "cell_type": "code",
   "execution_count": 4,
   "metadata": {},
   "outputs": [
    {
     "name": "stderr",
     "output_type": "stream",
     "text": [
      "2023-10-12 19:50:14.980292: W tensorflow/core/framework/cpu_allocator_impl.cc:82] Allocation of 188160000 exceeds 10% of free system memory.\n"
     ]
    },
    {
     "name": "stdout",
     "output_type": "stream",
     "text": [
      "Epoch 1/100\n"
     ]
    },
    {
     "name": "stderr",
     "output_type": "stream",
     "text": [
      "2023-10-12 19:50:15.112265: W tensorflow/core/framework/cpu_allocator_impl.cc:82] Allocation of 188160000 exceeds 10% of free system memory.\n"
     ]
    },
    {
     "name": "stdout",
     "output_type": "stream",
     "text": [
      "235/235 [==============================] - 1s 3ms/step - loss: 0.4264 - accuracy: 0.8684 - val_loss: 0.1293 - val_accuracy: 0.9599\n",
      "Epoch 2/100\n",
      "235/235 [==============================] - 0s 2ms/step - loss: 0.1568 - accuracy: 0.9544 - val_loss: 0.1040 - val_accuracy: 0.9693\n",
      "Epoch 3/100\n",
      "235/235 [==============================] - 0s 2ms/step - loss: 0.1136 - accuracy: 0.9663 - val_loss: 0.0797 - val_accuracy: 0.9757\n",
      "Epoch 4/100\n",
      "235/235 [==============================] - 0s 2ms/step - loss: 0.0903 - accuracy: 0.9729 - val_loss: 0.0749 - val_accuracy: 0.9773\n",
      "Epoch 5/100\n",
      "235/235 [==============================] - 0s 2ms/step - loss: 0.0749 - accuracy: 0.9773 - val_loss: 0.0684 - val_accuracy: 0.9788\n",
      "Epoch 6/100\n",
      "235/235 [==============================] - 0s 2ms/step - loss: 0.0653 - accuracy: 0.9798 - val_loss: 0.0658 - val_accuracy: 0.9797\n",
      "Epoch 7/100\n",
      "235/235 [==============================] - 0s 2ms/step - loss: 0.0595 - accuracy: 0.9818 - val_loss: 0.0624 - val_accuracy: 0.9823\n",
      "Epoch 8/100\n",
      "235/235 [==============================] - 0s 2ms/step - loss: 0.0489 - accuracy: 0.9852 - val_loss: 0.0642 - val_accuracy: 0.9812\n",
      "Epoch 9/100\n",
      "235/235 [==============================] - 0s 2ms/step - loss: 0.0472 - accuracy: 0.9859 - val_loss: 0.0627 - val_accuracy: 0.9814\n",
      "Epoch 10/100\n",
      "235/235 [==============================] - 0s 2ms/step - loss: 0.0426 - accuracy: 0.9864 - val_loss: 0.0618 - val_accuracy: 0.9829\n",
      "Epoch 11/100\n",
      "235/235 [==============================] - 0s 2ms/step - loss: 0.0400 - accuracy: 0.9873 - val_loss: 0.0677 - val_accuracy: 0.9820\n",
      "Epoch 12/100\n",
      "235/235 [==============================] - 0s 2ms/step - loss: 0.0368 - accuracy: 0.9885 - val_loss: 0.0589 - val_accuracy: 0.9839\n",
      "Epoch 13/100\n",
      "235/235 [==============================] - 0s 2ms/step - loss: 0.0340 - accuracy: 0.9895 - val_loss: 0.0622 - val_accuracy: 0.9837\n",
      "Epoch 14/100\n",
      "235/235 [==============================] - 0s 2ms/step - loss: 0.0367 - accuracy: 0.9883 - val_loss: 0.0634 - val_accuracy: 0.9821\n",
      "Epoch 15/100\n",
      "235/235 [==============================] - 0s 2ms/step - loss: 0.0318 - accuracy: 0.9894 - val_loss: 0.0582 - val_accuracy: 0.9837\n",
      "Epoch 16/100\n",
      "235/235 [==============================] - 1s 2ms/step - loss: 0.0279 - accuracy: 0.9915 - val_loss: 0.0614 - val_accuracy: 0.9829\n",
      "Epoch 17/100\n",
      "235/235 [==============================] - 0s 2ms/step - loss: 0.0296 - accuracy: 0.9911 - val_loss: 0.0604 - val_accuracy: 0.9832\n",
      "Epoch 18/100\n",
      "235/235 [==============================] - 0s 2ms/step - loss: 0.0263 - accuracy: 0.9917 - val_loss: 0.0607 - val_accuracy: 0.9847\n",
      "Epoch 19/100\n",
      "235/235 [==============================] - 0s 2ms/step - loss: 0.0237 - accuracy: 0.9925 - val_loss: 0.0615 - val_accuracy: 0.9846\n",
      "Epoch 20/100\n",
      "235/235 [==============================] - 0s 2ms/step - loss: 0.0265 - accuracy: 0.9919 - val_loss: 0.0614 - val_accuracy: 0.9827\n",
      "Epoch 21/100\n",
      "235/235 [==============================] - 0s 2ms/step - loss: 0.0232 - accuracy: 0.9924 - val_loss: 0.0651 - val_accuracy: 0.9841\n",
      "Epoch 22/100\n",
      "235/235 [==============================] - 0s 2ms/step - loss: 0.0233 - accuracy: 0.9925 - val_loss: 0.0581 - val_accuracy: 0.9854\n",
      "Epoch 23/100\n",
      "235/235 [==============================] - 0s 2ms/step - loss: 0.0214 - accuracy: 0.9931 - val_loss: 0.0699 - val_accuracy: 0.9831\n",
      "Epoch 24/100\n",
      "235/235 [==============================] - 0s 2ms/step - loss: 0.0212 - accuracy: 0.9933 - val_loss: 0.0668 - val_accuracy: 0.9836\n",
      "Epoch 25/100\n",
      "235/235 [==============================] - 0s 2ms/step - loss: 0.0213 - accuracy: 0.9934 - val_loss: 0.0621 - val_accuracy: 0.9837\n",
      "Epoch 26/100\n",
      "235/235 [==============================] - 0s 2ms/step - loss: 0.0195 - accuracy: 0.9937 - val_loss: 0.0649 - val_accuracy: 0.9845\n",
      "Epoch 27/100\n",
      "235/235 [==============================] - 1s 2ms/step - loss: 0.0199 - accuracy: 0.9938 - val_loss: 0.0631 - val_accuracy: 0.9842\n",
      "Epoch 28/100\n",
      "235/235 [==============================] - 0s 2ms/step - loss: 0.0179 - accuracy: 0.9944 - val_loss: 0.0649 - val_accuracy: 0.9850\n",
      "Epoch 29/100\n",
      "235/235 [==============================] - 0s 2ms/step - loss: 0.0210 - accuracy: 0.9932 - val_loss: 0.0764 - val_accuracy: 0.9838\n",
      "Epoch 30/100\n",
      "235/235 [==============================] - 0s 2ms/step - loss: 0.0186 - accuracy: 0.9941 - val_loss: 0.0691 - val_accuracy: 0.9829\n",
      "Epoch 31/100\n",
      "235/235 [==============================] - 0s 2ms/step - loss: 0.0160 - accuracy: 0.9947 - val_loss: 0.0666 - val_accuracy: 0.9848\n",
      "Epoch 32/100\n",
      "235/235 [==============================] - 0s 2ms/step - loss: 0.0172 - accuracy: 0.9945 - val_loss: 0.0689 - val_accuracy: 0.9842\n",
      "Epoch 33/100\n",
      "235/235 [==============================] - 0s 2ms/step - loss: 0.0166 - accuracy: 0.9945 - val_loss: 0.0658 - val_accuracy: 0.9836\n",
      "Epoch 34/100\n",
      "235/235 [==============================] - 0s 2ms/step - loss: 0.0178 - accuracy: 0.9945 - val_loss: 0.0618 - val_accuracy: 0.9853\n",
      "Epoch 35/100\n",
      "235/235 [==============================] - 0s 2ms/step - loss: 0.0151 - accuracy: 0.9952 - val_loss: 0.0699 - val_accuracy: 0.9847\n",
      "Epoch 36/100\n",
      "235/235 [==============================] - 0s 2ms/step - loss: 0.0152 - accuracy: 0.9951 - val_loss: 0.0778 - val_accuracy: 0.9826\n",
      "Epoch 37/100\n",
      "235/235 [==============================] - 0s 2ms/step - loss: 0.0133 - accuracy: 0.9952 - val_loss: 0.0629 - val_accuracy: 0.9869\n",
      "Epoch 38/100\n",
      "235/235 [==============================] - 0s 2ms/step - loss: 0.0153 - accuracy: 0.9955 - val_loss: 0.0737 - val_accuracy: 0.9839\n",
      "Epoch 39/100\n",
      "235/235 [==============================] - 0s 2ms/step - loss: 0.0148 - accuracy: 0.9955 - val_loss: 0.0665 - val_accuracy: 0.9861\n",
      "Epoch 40/100\n",
      "235/235 [==============================] - 0s 2ms/step - loss: 0.0142 - accuracy: 0.9958 - val_loss: 0.0694 - val_accuracy: 0.9844\n",
      "Epoch 41/100\n",
      "235/235 [==============================] - 0s 2ms/step - loss: 0.0129 - accuracy: 0.9959 - val_loss: 0.0788 - val_accuracy: 0.9844\n",
      "Epoch 42/100\n",
      "235/235 [==============================] - 0s 2ms/step - loss: 0.0134 - accuracy: 0.9958 - val_loss: 0.0687 - val_accuracy: 0.9850\n",
      "Epoch 43/100\n",
      "235/235 [==============================] - 0s 2ms/step - loss: 0.0127 - accuracy: 0.9960 - val_loss: 0.0700 - val_accuracy: 0.9857\n",
      "Epoch 44/100\n",
      "235/235 [==============================] - 0s 2ms/step - loss: 0.0131 - accuracy: 0.9957 - val_loss: 0.0830 - val_accuracy: 0.9847\n",
      "Epoch 45/100\n",
      "235/235 [==============================] - 0s 2ms/step - loss: 0.0133 - accuracy: 0.9958 - val_loss: 0.0692 - val_accuracy: 0.9855\n",
      "Epoch 46/100\n",
      "235/235 [==============================] - 0s 2ms/step - loss: 0.0139 - accuracy: 0.9954 - val_loss: 0.0679 - val_accuracy: 0.9862\n",
      "Epoch 47/100\n",
      "235/235 [==============================] - 1s 2ms/step - loss: 0.0132 - accuracy: 0.9959 - val_loss: 0.0612 - val_accuracy: 0.9861\n",
      "Epoch 48/100\n",
      "235/235 [==============================] - 0s 2ms/step - loss: 0.0125 - accuracy: 0.9961 - val_loss: 0.0733 - val_accuracy: 0.9853\n",
      "Epoch 49/100\n",
      "235/235 [==============================] - 0s 2ms/step - loss: 0.0131 - accuracy: 0.9959 - val_loss: 0.0692 - val_accuracy: 0.9860\n",
      "Epoch 50/100\n",
      "235/235 [==============================] - 0s 2ms/step - loss: 0.0122 - accuracy: 0.9962 - val_loss: 0.0732 - val_accuracy: 0.9855\n",
      "Epoch 51/100\n",
      "235/235 [==============================] - 1s 2ms/step - loss: 0.0108 - accuracy: 0.9967 - val_loss: 0.0769 - val_accuracy: 0.9850\n",
      "Epoch 52/100\n",
      "235/235 [==============================] - 0s 2ms/step - loss: 0.0122 - accuracy: 0.9960 - val_loss: 0.0773 - val_accuracy: 0.9853\n",
      "Epoch 53/100\n",
      "235/235 [==============================] - 1s 2ms/step - loss: 0.0122 - accuracy: 0.9961 - val_loss: 0.0699 - val_accuracy: 0.9866\n",
      "Epoch 54/100\n",
      "235/235 [==============================] - 0s 2ms/step - loss: 0.0101 - accuracy: 0.9968 - val_loss: 0.0773 - val_accuracy: 0.9848\n",
      "Epoch 55/100\n",
      "235/235 [==============================] - 0s 2ms/step - loss: 0.0118 - accuracy: 0.9963 - val_loss: 0.0731 - val_accuracy: 0.9849\n",
      "Epoch 56/100\n",
      "235/235 [==============================] - 1s 2ms/step - loss: 0.0093 - accuracy: 0.9970 - val_loss: 0.0771 - val_accuracy: 0.9848\n",
      "Epoch 57/100\n",
      "235/235 [==============================] - 0s 2ms/step - loss: 0.0124 - accuracy: 0.9963 - val_loss: 0.0733 - val_accuracy: 0.9845\n",
      "Epoch 58/100\n",
      "235/235 [==============================] - 0s 2ms/step - loss: 0.0112 - accuracy: 0.9967 - val_loss: 0.0675 - val_accuracy: 0.9854\n",
      "Epoch 59/100\n",
      "235/235 [==============================] - 0s 2ms/step - loss: 0.0108 - accuracy: 0.9970 - val_loss: 0.0752 - val_accuracy: 0.9844\n",
      "Epoch 60/100\n",
      "235/235 [==============================] - 0s 2ms/step - loss: 0.0125 - accuracy: 0.9961 - val_loss: 0.0871 - val_accuracy: 0.9835\n",
      "Epoch 61/100\n",
      "235/235 [==============================] - 0s 2ms/step - loss: 0.0119 - accuracy: 0.9961 - val_loss: 0.0747 - val_accuracy: 0.9859\n",
      "Epoch 62/100\n",
      "235/235 [==============================] - 0s 2ms/step - loss: 0.0107 - accuracy: 0.9969 - val_loss: 0.0720 - val_accuracy: 0.9861\n",
      "Epoch 63/100\n",
      "235/235 [==============================] - 0s 2ms/step - loss: 0.0087 - accuracy: 0.9972 - val_loss: 0.0684 - val_accuracy: 0.9876\n",
      "Epoch 64/100\n",
      "235/235 [==============================] - 1s 2ms/step - loss: 0.0101 - accuracy: 0.9969 - val_loss: 0.0829 - val_accuracy: 0.9859\n",
      "Epoch 65/100\n",
      "235/235 [==============================] - 0s 2ms/step - loss: 0.0099 - accuracy: 0.9970 - val_loss: 0.0899 - val_accuracy: 0.9843\n",
      "Epoch 66/100\n",
      "235/235 [==============================] - 0s 2ms/step - loss: 0.0105 - accuracy: 0.9966 - val_loss: 0.0787 - val_accuracy: 0.9866\n",
      "Epoch 67/100\n",
      "235/235 [==============================] - 0s 2ms/step - loss: 0.0104 - accuracy: 0.9968 - val_loss: 0.0793 - val_accuracy: 0.9850\n",
      "Epoch 68/100\n",
      "235/235 [==============================] - 0s 2ms/step - loss: 0.0068 - accuracy: 0.9977 - val_loss: 0.0726 - val_accuracy: 0.9870\n",
      "Epoch 69/100\n",
      "235/235 [==============================] - 0s 2ms/step - loss: 0.0109 - accuracy: 0.9967 - val_loss: 0.0806 - val_accuracy: 0.9864\n",
      "Epoch 70/100\n",
      "235/235 [==============================] - 0s 2ms/step - loss: 0.0094 - accuracy: 0.9970 - val_loss: 0.0793 - val_accuracy: 0.9864\n",
      "Epoch 71/100\n",
      "235/235 [==============================] - 0s 2ms/step - loss: 0.0102 - accuracy: 0.9969 - val_loss: 0.0813 - val_accuracy: 0.9856\n",
      "Epoch 72/100\n",
      "235/235 [==============================] - 0s 2ms/step - loss: 0.0099 - accuracy: 0.9971 - val_loss: 0.0781 - val_accuracy: 0.9863\n",
      "Epoch 73/100\n",
      "235/235 [==============================] - 0s 2ms/step - loss: 0.0096 - accuracy: 0.9971 - val_loss: 0.0789 - val_accuracy: 0.9873\n",
      "Epoch 74/100\n",
      "235/235 [==============================] - 0s 2ms/step - loss: 0.0112 - accuracy: 0.9966 - val_loss: 0.0727 - val_accuracy: 0.9859\n",
      "Epoch 75/100\n",
      "235/235 [==============================] - 0s 2ms/step - loss: 0.0087 - accuracy: 0.9976 - val_loss: 0.0721 - val_accuracy: 0.9866\n",
      "Epoch 76/100\n",
      "235/235 [==============================] - 0s 2ms/step - loss: 0.0062 - accuracy: 0.9979 - val_loss: 0.0796 - val_accuracy: 0.9863\n",
      "Epoch 77/100\n",
      "235/235 [==============================] - 0s 2ms/step - loss: 0.0088 - accuracy: 0.9973 - val_loss: 0.0833 - val_accuracy: 0.9862\n",
      "Epoch 78/100\n",
      "235/235 [==============================] - 0s 2ms/step - loss: 0.0128 - accuracy: 0.9965 - val_loss: 0.0744 - val_accuracy: 0.9859\n",
      "Epoch 79/100\n",
      "235/235 [==============================] - 0s 2ms/step - loss: 0.0084 - accuracy: 0.9973 - val_loss: 0.0771 - val_accuracy: 0.9859\n",
      "Epoch 80/100\n",
      "235/235 [==============================] - 0s 2ms/step - loss: 0.0087 - accuracy: 0.9972 - val_loss: 0.0793 - val_accuracy: 0.9847\n",
      "Epoch 81/100\n",
      "235/235 [==============================] - 0s 2ms/step - loss: 0.0102 - accuracy: 0.9968 - val_loss: 0.0804 - val_accuracy: 0.9853\n",
      "Epoch 82/100\n",
      "235/235 [==============================] - 0s 2ms/step - loss: 0.0081 - accuracy: 0.9975 - val_loss: 0.0820 - val_accuracy: 0.9859\n",
      "Epoch 83/100\n",
      "235/235 [==============================] - 0s 2ms/step - loss: 0.0080 - accuracy: 0.9974 - val_loss: 0.0804 - val_accuracy: 0.9855\n",
      "Epoch 84/100\n",
      "235/235 [==============================] - 0s 2ms/step - loss: 0.0083 - accuracy: 0.9973 - val_loss: 0.0797 - val_accuracy: 0.9868\n",
      "Epoch 85/100\n",
      "235/235 [==============================] - 0s 2ms/step - loss: 0.0099 - accuracy: 0.9971 - val_loss: 0.0840 - val_accuracy: 0.9852\n",
      "Epoch 86/100\n",
      "235/235 [==============================] - 0s 2ms/step - loss: 0.0084 - accuracy: 0.9974 - val_loss: 0.0869 - val_accuracy: 0.9850\n",
      "Epoch 87/100\n",
      "235/235 [==============================] - 0s 2ms/step - loss: 0.0087 - accuracy: 0.9976 - val_loss: 0.0833 - val_accuracy: 0.9878\n",
      "Epoch 88/100\n",
      "235/235 [==============================] - 0s 2ms/step - loss: 0.0087 - accuracy: 0.9975 - val_loss: 0.0872 - val_accuracy: 0.9871\n",
      "Epoch 89/100\n",
      "235/235 [==============================] - 0s 2ms/step - loss: 0.0071 - accuracy: 0.9976 - val_loss: 0.0932 - val_accuracy: 0.9859\n",
      "Epoch 90/100\n",
      "235/235 [==============================] - 0s 2ms/step - loss: 0.0076 - accuracy: 0.9977 - val_loss: 0.0865 - val_accuracy: 0.9855\n",
      "Epoch 91/100\n",
      "235/235 [==============================] - 0s 2ms/step - loss: 0.0078 - accuracy: 0.9977 - val_loss: 0.0919 - val_accuracy: 0.9855\n",
      "Epoch 92/100\n",
      "235/235 [==============================] - 1s 2ms/step - loss: 0.0093 - accuracy: 0.9973 - val_loss: 0.0806 - val_accuracy: 0.9861\n",
      "Epoch 93/100\n",
      "235/235 [==============================] - 0s 2ms/step - loss: 0.0072 - accuracy: 0.9978 - val_loss: 0.0866 - val_accuracy: 0.9857\n",
      "Epoch 94/100\n",
      "235/235 [==============================] - 0s 2ms/step - loss: 0.0108 - accuracy: 0.9969 - val_loss: 0.0783 - val_accuracy: 0.9866\n",
      "Epoch 95/100\n",
      "235/235 [==============================] - 1s 2ms/step - loss: 0.0072 - accuracy: 0.9977 - val_loss: 0.0830 - val_accuracy: 0.9858\n",
      "Epoch 96/100\n",
      "235/235 [==============================] - 0s 2ms/step - loss: 0.0075 - accuracy: 0.9977 - val_loss: 0.0869 - val_accuracy: 0.9872\n",
      "Epoch 97/100\n",
      "235/235 [==============================] - 0s 2ms/step - loss: 0.0099 - accuracy: 0.9972 - val_loss: 0.0763 - val_accuracy: 0.9861\n",
      "Epoch 98/100\n",
      "235/235 [==============================] - 0s 2ms/step - loss: 0.0071 - accuracy: 0.9979 - val_loss: 0.0886 - val_accuracy: 0.9851\n",
      "Epoch 99/100\n",
      "235/235 [==============================] - 0s 2ms/step - loss: 0.0071 - accuracy: 0.9977 - val_loss: 0.0916 - val_accuracy: 0.9857\n",
      "Epoch 100/100\n",
      "235/235 [==============================] - 0s 2ms/step - loss: 0.0087 - accuracy: 0.9973 - val_loss: 0.0938 - val_accuracy: 0.9851\n"
     ]
    },
    {
     "data": {
      "text/plain": [
       "<keras.callbacks.History at 0x7f7c4f8b2b50>"
      ]
     },
     "execution_count": 4,
     "metadata": {},
     "output_type": "execute_result"
    }
   ],
   "source": [
    "# Train model \n",
    "model.compile(loss='sparse_categorical_crossentropy', optimizer='adam', metrics=['accuracy'])\n",
    "model.fit(\n",
    "    train_images,\n",
    "    train_labels,\n",
    "    epochs=100,\n",
    "    batch_size=256,\n",
    "    verbose=1,\n",
    "    validation_data=(test_images, test_labels))"
   ]
  },
  {
   "cell_type": "code",
   "execution_count": 6,
   "metadata": {},
   "outputs": [],
   "source": [
    "# Lưu Model và nộp \n",
    "model.save(\"mymodel.h5\")"
   ]
  }
 ],
 "metadata": {
  "kernelspec": {
   "display_name": "protonx",
   "language": "python",
   "name": "python3"
  },
  "language_info": {
   "codemirror_mode": {
    "name": "ipython",
    "version": 3
   },
   "file_extension": ".py",
   "mimetype": "text/x-python",
   "name": "python",
   "nbconvert_exporter": "python",
   "pygments_lexer": "ipython3",
   "version": "3.8.18"
  }
 },
 "nbformat": 4,
 "nbformat_minor": 2
}
