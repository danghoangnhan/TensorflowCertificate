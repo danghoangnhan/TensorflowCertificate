{
  "cells": [
    {
      "cell_type": "code",
      "execution_count": 1,
      "metadata": {
        "colab": {
          "base_uri": "https://localhost:8080/"
        },
        "id": "8Y3XL22FV7P4",
        "outputId": "287c3847-a786-4bcb-8bc9-c6b5709cf82f"
      },
      "outputs": [
        {
          "name": "stdout",
          "output_type": "stream",
          "text": [
            "2.13.0\n"
          ]
        }
      ],
      "source": [
        "import tensorflow as tf\n",
        "print(tf.__version__)"
      ]
    },
    {
      "cell_type": "code",
      "execution_count": 2,
      "metadata": {
        "id": "mUPEdaqSXs9C"
      },
      "outputs": [],
      "source": [
        "import numpy as np\n",
        "import matplotlib.pyplot as plt\n",
        "def plot_series(time, series, format=\"-\", start=0, end=None):\n",
        "    plt.plot(time[start:end], series[start:end], format)\n",
        "    plt.xlabel(\"Time\")\n",
        "    plt.ylabel(\"Value\")\n",
        "    plt.grid(True)"
      ]
    },
    {
      "cell_type": "code",
      "execution_count": 3,
      "metadata": {
        "id": "np4sVyGoX3Sg"
      },
      "outputs": [],
      "source": [
        "def windowed_dataset(series, batch_size, n_past=24, n_future=24, shift=1):\n",
        "    ds = tf.data.Dataset.from_tensor_slices(series)\n",
        "    ds = ds.window(size=n_past + n_future, shift=shift, drop_remainder=True)\n",
        "    ds = ds.flat_map(lambda w: w.batch(n_past + n_future))\n",
        "    ds = ds.map(lambda w: (w[:n_past], w[n_past:]))\n",
        "    return ds.batch(batch_size).prefetch(1)"
      ]
    },
    {
      "cell_type": "code",
      "execution_count": 4,
      "metadata": {
        "id": "8pSZBuuHX6H6"
      },
      "outputs": [],
      "source": [
        "def model_forecast(model, series, window_size):\n",
        "    ds = tf.data.Dataset.from_tensor_slices(series)\n",
        "    ds = ds.window(window_size, shift=1, drop_remainder=True)\n",
        "    ds = ds.flat_map(lambda w: w.batch(window_size))\n",
        "    ds = ds.batch(32).prefetch(1)\n",
        "    forecast = model.predict(ds)\n",
        "    return forecast"
      ]
    },
    {
      "cell_type": "code",
      "execution_count": 5,
      "metadata": {
        "id": "b75_PCQFObZX"
      },
      "outputs": [],
      "source": [
        "def normalize_series(data, min, max):\n",
        "    data = data - min\n",
        "    data = data / max\n",
        "    return data"
      ]
    },
    {
      "cell_type": "code",
      "execution_count": 6,
      "metadata": {
        "id": "y7wAdpv_X7jT"
      },
      "outputs": [],
      "source": [
        "from tensorflow.keras.models import Sequential\n",
        "from tensorflow.keras.layers import LSTM, Dense, Bidirectional\n"
      ]
    },
    {
      "cell_type": "markdown",
      "metadata": {
        "id": "HFbl4k9zgC1W"
      },
      "source": [
        "Sunspot"
      ]
    },
    {
      "cell_type": "code",
      "execution_count": 7,
      "metadata": {
        "colab": {
          "base_uri": "https://localhost:8080/"
        },
        "id": "eYZ_7RyVSb5v",
        "outputId": "4cf36cd0-7368-4d1f-fefe-e656df381736"
      },
      "outputs": [
        {
          "name": "stdout",
          "output_type": "stream",
          "text": [
            "2.13.0\n"
          ]
        }
      ],
      "source": [
        "import tensorflow as tf\n",
        "print(tf.__version__)"
      ]
    },
    {
      "cell_type": "code",
      "execution_count": 8,
      "metadata": {
        "id": "qH4SH24tSj3C"
      },
      "outputs": [],
      "source": [
        "from sklearn.preprocessing import MinMaxScaler\n"
      ]
    },
    {
      "cell_type": "code",
      "execution_count": 9,
      "metadata": {
        "colab": {
          "base_uri": "https://localhost:8080/"
        },
        "id": "4qN2uQZQgEDP",
        "outputId": "31654e52-61c6-4bb6-8c4e-eead7f37fa00"
      },
      "outputs": [
        {
          "name": "stdout",
          "output_type": "stream",
          "text": [
            "--2023-10-12 15:00:10--  https://storage.googleapis.com/download.tensorflow.org/data/certificate/household_power.zip\n",
            "Resolving storage.googleapis.com (storage.googleapis.com)... 142.251.2.207, 2607:f8b0:4023:c06::cf, 2607:f8b0:4023:c0d::cf\n",
            "Connecting to storage.googleapis.com (storage.googleapis.com)|142.251.2.207|:443... connected.\n",
            "HTTP request sent, awaiting response... 200 OK\n",
            "Length: 859850 (840K) [application/zip]\n",
            "Saving to: ‘/tmp/household_power.zip’\n",
            "\n",
            "\r/tmp/household_powe   0%[                    ]       0  --.-KB/s               \r/tmp/household_powe 100%[===================>] 839.70K  --.-KB/s    in 0.007s  \n",
            "\n",
            "2023-10-12 15:00:10 (114 MB/s) - ‘/tmp/household_power.zip’ saved [859850/859850]\n",
            "\n"
          ]
        }
      ],
      "source": [
        "!wget --no-check-certificate \\\n",
        "    https://storage.googleapis.com/download.tensorflow.org/data/certificate/household_power.zip \\\n",
        "    -O /tmp/household_power.zip"
      ]
    },
    {
      "cell_type": "code",
      "execution_count": 10,
      "metadata": {
        "id": "8kZCwnJv7u0B"
      },
      "outputs": [],
      "source": [
        "# !unzip /tmp/household_power.zip -d /tmp"
      ]
    },
    {
      "cell_type": "code",
      "execution_count": 11,
      "metadata": {
        "id": "v-SZqv-OgHAT"
      },
      "outputs": [],
      "source": [
        "import pandas as pd\n",
        "df = pd.read_csv('/tmp/household_power_consumption.csv', sep=',',\n",
        "                     infer_datetime_format=True, index_col='datetime', header=0)\n",
        "\n",
        "N_FEATURES = len(df.columns) # DO NOT CHANGE THIS\n",
        "\n",
        "data = df.values\n",
        "data = normalize_series(data, data.min(axis=0), data.max(axis=0))\n",
        "\n",
        "SPLIT_TIME = int(len(data) * 0.5) # DO NOT CHANGE THIS\n",
        "x_train = data[:SPLIT_TIME]\n",
        "x_valid = data[SPLIT_TIME:]\n",
        "\n",
        "tf.keras.backend.clear_session()\n",
        "tf.random.set_seed(42)\n",
        "BATCH_SIZE = 32  # ADVISED NOT TO CHANGE THIS\n",
        "\n",
        "\n",
        "N_PAST = 24  # DO NOT CHANGE THIS\n",
        "\n",
        "N_FUTURE = 24  # DO NOT CHANGE THIS\n",
        "\n",
        "SHIFT = 1  # DO NOT CHANGE THIS\n",
        "\n",
        "train_set = windowed_dataset(series=x_train, batch_size=BATCH_SIZE,\n",
        "                                 n_past=N_PAST, n_future=N_FUTURE,\n",
        "                                 shift=SHIFT)\n",
        "valid_set = windowed_dataset(series=x_valid, batch_size=BATCH_SIZE,\n",
        "                                 n_past=N_PAST, n_future=N_FUTURE,\n",
        "                                 shift=SHIFT)"
      ]
    },
    {
      "cell_type": "code",
      "execution_count": 12,
      "metadata": {
        "id": "AYWbTeccSt0X"
      },
      "outputs": [],
      "source": [
        "from tensorflow.keras.models import Sequential\n",
        "from tensorflow.keras.layers import Conv1D, LSTM, Dense, Bidirectional\n",
        "from tensorflow.keras.backend import clear_session\n",
        "from tensorflow.keras.callbacks import ModelCheckpoint"
      ]
    },
    {
      "cell_type": "markdown",
      "metadata": {
        "id": "LLz-G0sUh8PF"
      },
      "source": [
        "Conv1D"
      ]
    },
    {
      "cell_type": "code",
      "execution_count": 18,
      "metadata": {
        "colab": {
          "base_uri": "https://localhost:8080/"
        },
        "id": "Q0tH1Pvhh9Z3",
        "outputId": "4b9f903d-f944-497d-92b8-8979fe649d68"
      },
      "outputs": [
        {
          "name": "stdout",
          "output_type": "stream",
          "text": [
            "Epoch 1/50\n",
            "1349/1349 [==============================] - 30s 20ms/step - loss: 0.0192 - mae: 0.0757 - val_loss: 0.0171 - val_mae: 0.0683\n",
            "Epoch 2/50\n",
            "1349/1349 [==============================] - 36s 27ms/step - loss: 0.0170 - mae: 0.0673 - val_loss: 0.0161 - val_mae: 0.0644\n",
            "Epoch 3/50\n",
            "1349/1349 [==============================] - 36s 27ms/step - loss: 0.0162 - mae: 0.0648 - val_loss: 0.0152 - val_mae: 0.0620\n",
            "Epoch 4/50\n",
            "1349/1349 [==============================] - 27s 20ms/step - loss: 0.0153 - mae: 0.0633 - val_loss: 0.0142 - val_mae: 0.0605\n",
            "Epoch 5/50\n",
            "1349/1349 [==============================] - 28s 21ms/step - loss: 0.0144 - mae: 0.0611 - val_loss: 0.0137 - val_mae: 0.0590\n",
            "Epoch 6/50\n",
            "1349/1349 [==============================] - 26s 20ms/step - loss: 0.0140 - mae: 0.0597 - val_loss: 0.0134 - val_mae: 0.0581\n",
            "Epoch 7/50\n",
            "1349/1349 [==============================] - 26s 20ms/step - loss: 0.0137 - mae: 0.0587 - val_loss: 0.0132 - val_mae: 0.0575\n",
            "Epoch 8/50\n",
            "1349/1349 [==============================] - 27s 20ms/step - loss: 0.0135 - mae: 0.0578 - val_loss: 0.0130 - val_mae: 0.0566\n",
            "Epoch 9/50\n",
            "1349/1349 [==============================] - 26s 19ms/step - loss: 0.0133 - mae: 0.0571 - val_loss: 0.0129 - val_mae: 0.0565\n",
            "Epoch 10/50\n",
            "1349/1349 [==============================] - 27s 20ms/step - loss: 0.0132 - mae: 0.0566 - val_loss: 0.0128 - val_mae: 0.0558\n",
            "Epoch 11/50\n",
            "1349/1349 [==============================] - 27s 20ms/step - loss: 0.0131 - mae: 0.0561 - val_loss: 0.0131 - val_mae: 0.0560\n",
            "Epoch 12/50\n",
            "1349/1349 [==============================] - 28s 21ms/step - loss: 0.0130 - mae: 0.0557 - val_loss: 0.0127 - val_mae: 0.0553\n",
            "Epoch 13/50\n",
            "1349/1349 [==============================] - 37s 27ms/step - loss: 0.0129 - mae: 0.0554 - val_loss: 0.0126 - val_mae: 0.0549\n",
            "Epoch 14/50\n",
            "1349/1349 [==============================] - 27s 20ms/step - loss: 0.0128 - mae: 0.0550 - val_loss: 0.0129 - val_mae: 0.0550\n",
            "Epoch 15/50\n",
            "1349/1349 [==============================] - 37s 28ms/step - loss: 0.0128 - mae: 0.0549 - val_loss: 0.0126 - val_mae: 0.0548\n",
            "Epoch 16/50\n",
            "1349/1349 [==============================] - 27s 20ms/step - loss: 0.0127 - mae: 0.0548 - val_loss: 0.0125 - val_mae: 0.0545\n",
            "Epoch 17/50\n",
            "1349/1349 [==============================] - 26s 19ms/step - loss: 0.0127 - mae: 0.0545 - val_loss: 0.0125 - val_mae: 0.0543\n",
            "Epoch 18/50\n",
            "1349/1349 [==============================] - 37s 27ms/step - loss: 0.0126 - mae: 0.0543 - val_loss: 0.0124 - val_mae: 0.0542\n",
            "Epoch 19/50\n",
            "1349/1349 [==============================] - 26s 20ms/step - loss: 0.0126 - mae: 0.0542 - val_loss: 0.0124 - val_mae: 0.0541\n",
            "Epoch 20/50\n",
            "1349/1349 [==============================] - 27s 20ms/step - loss: 0.0126 - mae: 0.0541 - val_loss: 0.0124 - val_mae: 0.0540\n",
            "Epoch 21/50\n",
            "1349/1349 [==============================] - 26s 19ms/step - loss: 0.0125 - mae: 0.0538 - val_loss: 0.0123 - val_mae: 0.0538\n",
            "Epoch 22/50\n",
            "1349/1349 [==============================] - 37s 27ms/step - loss: 0.0125 - mae: 0.0537 - val_loss: 0.0123 - val_mae: 0.0536\n",
            "Epoch 23/50\n",
            "1349/1349 [==============================] - 37s 27ms/step - loss: 0.0124 - mae: 0.0535 - val_loss: 0.0123 - val_mae: 0.0535\n",
            "Epoch 24/50\n",
            "1349/1349 [==============================] - 26s 20ms/step - loss: 0.0124 - mae: 0.0534 - val_loss: 0.0122 - val_mae: 0.0534\n",
            "Epoch 25/50\n",
            "1349/1349 [==============================] - 26s 19ms/step - loss: 0.0124 - mae: 0.0532 - val_loss: 0.0122 - val_mae: 0.0533\n",
            "Epoch 26/50\n",
            "1349/1349 [==============================] - 36s 27ms/step - loss: 0.0123 - mae: 0.0531 - val_loss: 0.0121 - val_mae: 0.0532\n",
            "Epoch 27/50\n",
            "1349/1349 [==============================] - 27s 20ms/step - loss: 0.0123 - mae: 0.0529 - val_loss: 0.0121 - val_mae: 0.0531\n",
            "Epoch 28/50\n",
            "1349/1349 [==============================] - 28s 20ms/step - loss: 0.0122 - mae: 0.0528 - val_loss: 0.0121 - val_mae: 0.0530\n",
            "Epoch 29/50\n",
            "1349/1349 [==============================] - 26s 20ms/step - loss: 0.0122 - mae: 0.0526 - val_loss: 0.0120 - val_mae: 0.0529\n",
            "Epoch 30/50\n",
            "1349/1349 [==============================] - 36s 27ms/step - loss: 0.0122 - mae: 0.0525 - val_loss: 0.0120 - val_mae: 0.0528\n",
            "Epoch 31/50\n",
            "1349/1349 [==============================] - 27s 20ms/step - loss: 0.0121 - mae: 0.0524 - val_loss: 0.0120 - val_mae: 0.0527\n",
            "Epoch 32/50\n",
            "1349/1349 [==============================] - 28s 21ms/step - loss: 0.0121 - mae: 0.0522 - val_loss: 0.0119 - val_mae: 0.0527\n",
            "Epoch 33/50\n",
            "1349/1349 [==============================] - 26s 20ms/step - loss: 0.0121 - mae: 0.0521 - val_loss: 0.0119 - val_mae: 0.0526\n",
            "Epoch 34/50\n",
            "1349/1349 [==============================] - 27s 20ms/step - loss: 0.0120 - mae: 0.0520 - val_loss: 0.0119 - val_mae: 0.0525\n",
            "Epoch 35/50\n",
            "1349/1349 [==============================] - 28s 21ms/step - loss: 0.0120 - mae: 0.0519 - val_loss: 0.0119 - val_mae: 0.0524\n",
            "Epoch 36/50\n",
            "1349/1349 [==============================] - 38s 28ms/step - loss: 0.0120 - mae: 0.0518 - val_loss: 0.0118 - val_mae: 0.0524\n",
            "Epoch 37/50\n",
            "1349/1349 [==============================] - 26s 19ms/step - loss: 0.0120 - mae: 0.0517 - val_loss: 0.0118 - val_mae: 0.0523\n",
            "Epoch 38/50\n",
            "1349/1349 [==============================] - 27s 20ms/step - loss: 0.0119 - mae: 0.0516 - val_loss: 0.0118 - val_mae: 0.0522\n",
            "Epoch 39/50\n",
            "1349/1349 [==============================] - 26s 20ms/step - loss: 0.0119 - mae: 0.0515 - val_loss: 0.0118 - val_mae: 0.0522\n",
            "Epoch 40/50\n",
            "1349/1349 [==============================] - 28s 20ms/step - loss: 0.0119 - mae: 0.0514 - val_loss: 0.0118 - val_mae: 0.0521\n",
            "Epoch 41/50\n",
            "1349/1349 [==============================] - 36s 27ms/step - loss: 0.0119 - mae: 0.0513 - val_loss: 0.0117 - val_mae: 0.0520\n",
            "Epoch 42/50\n",
            "1349/1349 [==============================] - 36s 27ms/step - loss: 0.0118 - mae: 0.0512 - val_loss: 0.0117 - val_mae: 0.0520\n",
            "Epoch 43/50\n",
            "1349/1349 [==============================] - 26s 20ms/step - loss: 0.0118 - mae: 0.0512 - val_loss: 0.0117 - val_mae: 0.0519\n",
            "Epoch 44/50\n",
            "1349/1349 [==============================] - 27s 20ms/step - loss: 0.0118 - mae: 0.0510 - val_loss: 0.0117 - val_mae: 0.0518\n",
            "Epoch 45/50\n",
            "1349/1349 [==============================] - 26s 19ms/step - loss: 0.0118 - mae: 0.0509 - val_loss: 0.0117 - val_mae: 0.0517\n",
            "Epoch 46/50\n",
            "1349/1349 [==============================] - 27s 20ms/step - loss: 0.0118 - mae: 0.0509 - val_loss: 0.0117 - val_mae: 0.0517\n",
            "Epoch 47/50\n",
            "1349/1349 [==============================] - 37s 27ms/step - loss: 0.0117 - mae: 0.0508 - val_loss: 0.0117 - val_mae: 0.0517\n",
            "Epoch 48/50\n",
            "1349/1349 [==============================] - 27s 20ms/step - loss: 0.0117 - mae: 0.0508 - val_loss: 0.0116 - val_mae: 0.0516\n",
            "Epoch 49/50\n",
            "1349/1349 [==============================] - 26s 19ms/step - loss: 0.0117 - mae: 0.0507 - val_loss: 0.0116 - val_mae: 0.0516\n",
            "Epoch 50/50\n",
            "1349/1349 [==============================] - 37s 27ms/step - loss: 0.0117 - mae: 0.0506 - val_loss: 0.0116 - val_mae: 0.0516\n"
          ]
        }
      ],
      "source": [
        "checkpoint = ModelCheckpoint(filepath='/home/mymodel.h5', monitor='mae', verbose=0, save_best_only=True)\n",
        "model = Sequential([\n",
        "      Bidirectional(LSTM(16, return_sequences=True),input_shape = (N_PAST, N_FEATURES)),\n",
        "      tf.keras.layers.Dense(N_FEATURES)\n",
        "])\n",
        "model.compile(loss='mean_squared_error', optimizer='adam', metrics=['mae'])\n",
        "history = model.fit(\n",
        "    train_set,\n",
        "    epochs=50,\n",
        "    validation_data=valid_set)"
      ]
    },
    {
      "cell_type": "code",
      "execution_count": 16,
      "metadata": {
        "colab": {
          "base_uri": "https://localhost:8080/"
        },
        "id": "Rg2Xe4wNEOwk",
        "outputId": "73cd59e1-b408-4636-b1c7-bb9d05dd56da"
      },
      "outputs": [
        {
          "name": "stderr",
          "output_type": "stream",
          "text": [
            "/usr/local/lib/python3.10/dist-packages/keras/src/engine/training.py:3000: UserWarning: You are saving your model as an HDF5 file via `model.save()`. This file format is considered legacy. We recommend using instead the native Keras format, e.g. `model.save('my_model.keras')`.\n",
            "  saving_api.save_model(\n"
          ]
        }
      ],
      "source": [
        "model.save(\"/home/mymodel.h5\")"
      ]
    }
  ],
  "metadata": {
    "accelerator": "GPU",
    "colab": {
      "gpuType": "T4",
      "provenance": []
    },
    "kernelspec": {
      "display_name": "Python 3",
      "name": "python3"
    },
    "language_info": {
      "codemirror_mode": {
        "name": "ipython",
        "version": 3
      },
      "file_extension": ".py",
      "mimetype": "text/x-python",
      "name": "python",
      "nbconvert_exporter": "python",
      "pygments_lexer": "ipython3",
      "version": "3.8.17"
    }
  },
  "nbformat": 4,
  "nbformat_minor": 0
}
