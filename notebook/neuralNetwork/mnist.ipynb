{
 "cells": [
  {
   "cell_type": "code",
   "execution_count": 1,
   "metadata": {},
   "outputs": [
    {
     "name": "stdout",
     "output_type": "stream",
     "text": [
      "2.8.0\n"
     ]
    }
   ],
   "source": [
    "import tensorflow as tf\n",
    "import numpy as np\n",
    "import matplotlib.pyplot as plt\n",
    "print(tf.__version__)"
   ]
  },
  {
   "cell_type": "code",
   "execution_count": 2,
   "metadata": {},
   "outputs": [
    {
     "data": {
      "text/plain": [
       "(60000, 28, 28)"
      ]
     },
     "execution_count": 2,
     "metadata": {},
     "output_type": "execute_result"
    }
   ],
   "source": [
    "(train_images, train_labels), (test_images, test_labels) = tf.keras.datasets.mnist.load_data()\n",
    "train_images = train_images / 255\n",
    "test_images = test_images / 255\n",
    "train_images.shape"
   ]
  },
  {
   "cell_type": "code",
   "execution_count": 3,
   "metadata": {},
   "outputs": [
    {
     "name": "stderr",
     "output_type": "stream",
     "text": [
      "2023-10-12 19:54:46.141890: I tensorflow/stream_executor/cuda/cuda_gpu_executor.cc:936] successful NUMA node read from SysFS had negative value (-1), but there must be at least one NUMA node, so returning NUMA node zero\n",
      "2023-10-12 19:54:46.142070: I tensorflow/stream_executor/cuda/cuda_gpu_executor.cc:936] successful NUMA node read from SysFS had negative value (-1), but there must be at least one NUMA node, so returning NUMA node zero\n",
      "2023-10-12 19:54:46.167722: I tensorflow/stream_executor/cuda/cuda_gpu_executor.cc:936] successful NUMA node read from SysFS had negative value (-1), but there must be at least one NUMA node, so returning NUMA node zero\n",
      "2023-10-12 19:54:46.167910: I tensorflow/stream_executor/cuda/cuda_gpu_executor.cc:936] successful NUMA node read from SysFS had negative value (-1), but there must be at least one NUMA node, so returning NUMA node zero\n",
      "2023-10-12 19:54:46.168062: I tensorflow/stream_executor/cuda/cuda_gpu_executor.cc:936] successful NUMA node read from SysFS had negative value (-1), but there must be at least one NUMA node, so returning NUMA node zero\n",
      "2023-10-12 19:54:46.168306: I tensorflow/stream_executor/cuda/cuda_gpu_executor.cc:936] successful NUMA node read from SysFS had negative value (-1), but there must be at least one NUMA node, so returning NUMA node zero\n",
      "2023-10-12 19:54:46.168666: I tensorflow/core/platform/cpu_feature_guard.cc:151] This TensorFlow binary is optimized with oneAPI Deep Neural Network Library (oneDNN) to use the following CPU instructions in performance-critical operations:  AVX2 FMA\n",
      "To enable them in other operations, rebuild TensorFlow with the appropriate compiler flags.\n",
      "2023-10-12 19:54:46.279889: I tensorflow/stream_executor/cuda/cuda_gpu_executor.cc:936] successful NUMA node read from SysFS had negative value (-1), but there must be at least one NUMA node, so returning NUMA node zero\n",
      "2023-10-12 19:54:46.280072: I tensorflow/stream_executor/cuda/cuda_gpu_executor.cc:936] successful NUMA node read from SysFS had negative value (-1), but there must be at least one NUMA node, so returning NUMA node zero\n",
      "2023-10-12 19:54:46.280224: I tensorflow/stream_executor/cuda/cuda_gpu_executor.cc:936] successful NUMA node read from SysFS had negative value (-1), but there must be at least one NUMA node, so returning NUMA node zero\n",
      "2023-10-12 19:54:46.280362: I tensorflow/stream_executor/cuda/cuda_gpu_executor.cc:936] successful NUMA node read from SysFS had negative value (-1), but there must be at least one NUMA node, so returning NUMA node zero\n",
      "2023-10-12 19:54:46.280498: I tensorflow/stream_executor/cuda/cuda_gpu_executor.cc:936] successful NUMA node read from SysFS had negative value (-1), but there must be at least one NUMA node, so returning NUMA node zero\n",
      "2023-10-12 19:54:46.280635: I tensorflow/stream_executor/cuda/cuda_gpu_executor.cc:936] successful NUMA node read from SysFS had negative value (-1), but there must be at least one NUMA node, so returning NUMA node zero\n",
      "2023-10-12 19:54:46.667825: I tensorflow/stream_executor/cuda/cuda_gpu_executor.cc:936] successful NUMA node read from SysFS had negative value (-1), but there must be at least one NUMA node, so returning NUMA node zero\n",
      "2023-10-12 19:54:46.668021: I tensorflow/stream_executor/cuda/cuda_gpu_executor.cc:936] successful NUMA node read from SysFS had negative value (-1), but there must be at least one NUMA node, so returning NUMA node zero\n",
      "2023-10-12 19:54:46.668162: I tensorflow/stream_executor/cuda/cuda_gpu_executor.cc:936] successful NUMA node read from SysFS had negative value (-1), but there must be at least one NUMA node, so returning NUMA node zero\n",
      "2023-10-12 19:54:46.668360: I tensorflow/stream_executor/cuda/cuda_gpu_executor.cc:936] successful NUMA node read from SysFS had negative value (-1), but there must be at least one NUMA node, so returning NUMA node zero\n",
      "2023-10-12 19:54:46.668496: I tensorflow/stream_executor/cuda/cuda_gpu_executor.cc:936] successful NUMA node read from SysFS had negative value (-1), but there must be at least one NUMA node, so returning NUMA node zero\n",
      "2023-10-12 19:54:46.668623: I tensorflow/core/common_runtime/gpu/gpu_device.cc:1525] Created device /job:localhost/replica:0/task:0/device:GPU:0 with 717 MB memory:  -> device: 0, name: NVIDIA GeForce RTX 2080, pci bus id: 0000:01:00.0, compute capability: 7.5\n",
      "2023-10-12 19:54:46.668951: I tensorflow/stream_executor/cuda/cuda_gpu_executor.cc:936] successful NUMA node read from SysFS had negative value (-1), but there must be at least one NUMA node, so returning NUMA node zero\n",
      "2023-10-12 19:54:46.669067: I tensorflow/core/common_runtime/gpu/gpu_device.cc:1525] Created device /job:localhost/replica:0/task:0/device:GPU:1 with 6639 MB memory:  -> device: 1, name: NVIDIA GeForce RTX 2080, pci bus id: 0000:02:00.0, compute capability: 7.5\n"
     ]
    }
   ],
   "source": [
    "model = tf.keras.models.Sequential([\n",
    "     tf.keras.layers.Flatten(input_shape=(28,28)), \n",
    "    tf.keras.layers.Dense(512, activation='relu'),\n",
    "    tf.keras.layers.Activation('relu'),\n",
    "    tf.keras.layers.Dropout(0.3),\n",
    "    tf.keras.layers.Dense(256, activation='relu'),\n",
    "    tf.keras.layers.Dropout(0.3),\n",
    "    tf.keras.layers.Dense(128, activation='relu'),\n",
    "    tf.keras.layers.Dropout(0.3),\n",
    "    tf.keras.layers.Dense(10, activation='softmax')\n",
    "])"
   ]
  },
  {
   "cell_type": "code",
   "execution_count": 4,
   "metadata": {},
   "outputs": [
    {
     "name": "stderr",
     "output_type": "stream",
     "text": [
      "2023-10-12 19:54:46.765698: W tensorflow/core/framework/cpu_allocator_impl.cc:82] Allocation of 188160000 exceeds 10% of free system memory.\n"
     ]
    },
    {
     "name": "stdout",
     "output_type": "stream",
     "text": [
      "Epoch 1/100\n"
     ]
    },
    {
     "name": "stderr",
     "output_type": "stream",
     "text": [
      "2023-10-12 19:54:46.894105: W tensorflow/core/framework/cpu_allocator_impl.cc:82] Allocation of 188160000 exceeds 10% of free system memory.\n"
     ]
    },
    {
     "name": "stdout",
     "output_type": "stream",
     "text": [
      "235/235 [==============================] - 1s 3ms/step - loss: 0.4118 - accuracy: 0.8726 - val_loss: 0.1261 - val_accuracy: 0.9608\n",
      "Epoch 2/100\n",
      "235/235 [==============================] - 0s 2ms/step - loss: 0.1541 - accuracy: 0.9553 - val_loss: 0.0954 - val_accuracy: 0.9690\n",
      "Epoch 3/100\n",
      "235/235 [==============================] - 1s 2ms/step - loss: 0.1149 - accuracy: 0.9655 - val_loss: 0.0774 - val_accuracy: 0.9748\n",
      "Epoch 4/100\n",
      "235/235 [==============================] - 0s 2ms/step - loss: 0.0903 - accuracy: 0.9719 - val_loss: 0.0785 - val_accuracy: 0.9763\n",
      "Epoch 5/100\n",
      "235/235 [==============================] - 0s 2ms/step - loss: 0.0760 - accuracy: 0.9771 - val_loss: 0.0686 - val_accuracy: 0.9793\n",
      "Epoch 6/100\n",
      "235/235 [==============================] - 1s 2ms/step - loss: 0.0661 - accuracy: 0.9793 - val_loss: 0.0628 - val_accuracy: 0.9796\n",
      "Epoch 7/100\n",
      "235/235 [==============================] - 0s 2ms/step - loss: 0.0587 - accuracy: 0.9819 - val_loss: 0.0595 - val_accuracy: 0.9809\n",
      "Epoch 8/100\n",
      "235/235 [==============================] - 0s 2ms/step - loss: 0.0508 - accuracy: 0.9845 - val_loss: 0.0555 - val_accuracy: 0.9833\n",
      "Epoch 9/100\n",
      "235/235 [==============================] - 0s 2ms/step - loss: 0.0482 - accuracy: 0.9849 - val_loss: 0.0629 - val_accuracy: 0.9805\n",
      "Epoch 10/100\n",
      "235/235 [==============================] - 0s 2ms/step - loss: 0.0454 - accuracy: 0.9864 - val_loss: 0.0593 - val_accuracy: 0.9810\n",
      "Epoch 11/100\n",
      "235/235 [==============================] - 0s 2ms/step - loss: 0.0386 - accuracy: 0.9881 - val_loss: 0.0616 - val_accuracy: 0.9823\n",
      "Epoch 12/100\n",
      "235/235 [==============================] - 0s 2ms/step - loss: 0.0360 - accuracy: 0.9888 - val_loss: 0.0615 - val_accuracy: 0.9834\n",
      "Epoch 13/100\n",
      "235/235 [==============================] - 0s 2ms/step - loss: 0.0358 - accuracy: 0.9884 - val_loss: 0.0594 - val_accuracy: 0.9834\n",
      "Epoch 14/100\n",
      "235/235 [==============================] - 1s 2ms/step - loss: 0.0347 - accuracy: 0.9886 - val_loss: 0.0627 - val_accuracy: 0.9827\n",
      "Epoch 15/100\n",
      "235/235 [==============================] - 0s 2ms/step - loss: 0.0331 - accuracy: 0.9892 - val_loss: 0.0593 - val_accuracy: 0.9841\n",
      "Epoch 16/100\n",
      "235/235 [==============================] - 0s 2ms/step - loss: 0.0282 - accuracy: 0.9909 - val_loss: 0.0613 - val_accuracy: 0.9841\n",
      "Epoch 17/100\n",
      "235/235 [==============================] - 1s 2ms/step - loss: 0.0284 - accuracy: 0.9912 - val_loss: 0.0587 - val_accuracy: 0.9836\n",
      "Epoch 18/100\n",
      "235/235 [==============================] - 0s 2ms/step - loss: 0.0255 - accuracy: 0.9922 - val_loss: 0.0642 - val_accuracy: 0.9837\n",
      "Epoch 19/100\n",
      "235/235 [==============================] - 0s 2ms/step - loss: 0.0257 - accuracy: 0.9916 - val_loss: 0.0632 - val_accuracy: 0.9833\n",
      "Epoch 20/100\n",
      "235/235 [==============================] - 1s 2ms/step - loss: 0.0236 - accuracy: 0.9928 - val_loss: 0.0528 - val_accuracy: 0.9863\n",
      "Epoch 21/100\n",
      "235/235 [==============================] - 0s 2ms/step - loss: 0.0232 - accuracy: 0.9931 - val_loss: 0.0620 - val_accuracy: 0.9839\n",
      "Epoch 22/100\n",
      "235/235 [==============================] - 0s 2ms/step - loss: 0.0209 - accuracy: 0.9936 - val_loss: 0.0684 - val_accuracy: 0.9831\n",
      "Epoch 23/100\n",
      "235/235 [==============================] - 0s 2ms/step - loss: 0.0201 - accuracy: 0.9933 - val_loss: 0.0674 - val_accuracy: 0.9837\n",
      "Epoch 24/100\n",
      "235/235 [==============================] - 1s 3ms/step - loss: 0.0242 - accuracy: 0.9927 - val_loss: 0.0640 - val_accuracy: 0.9840\n",
      "Epoch 25/100\n",
      "235/235 [==============================] - 1s 2ms/step - loss: 0.0208 - accuracy: 0.9934 - val_loss: 0.0687 - val_accuracy: 0.9844\n",
      "Epoch 26/100\n",
      "235/235 [==============================] - 0s 2ms/step - loss: 0.0200 - accuracy: 0.9941 - val_loss: 0.0633 - val_accuracy: 0.9845\n",
      "Epoch 27/100\n",
      "235/235 [==============================] - 1s 3ms/step - loss: 0.0194 - accuracy: 0.9935 - val_loss: 0.0676 - val_accuracy: 0.9850\n",
      "Epoch 28/100\n",
      "235/235 [==============================] - 1s 2ms/step - loss: 0.0179 - accuracy: 0.9943 - val_loss: 0.0651 - val_accuracy: 0.9859\n",
      "Epoch 29/100\n",
      "235/235 [==============================] - 0s 2ms/step - loss: 0.0187 - accuracy: 0.9941 - val_loss: 0.0720 - val_accuracy: 0.9849\n",
      "Epoch 30/100\n",
      "235/235 [==============================] - 0s 2ms/step - loss: 0.0166 - accuracy: 0.9949 - val_loss: 0.0686 - val_accuracy: 0.9856\n",
      "Epoch 31/100\n",
      "235/235 [==============================] - 0s 2ms/step - loss: 0.0170 - accuracy: 0.9949 - val_loss: 0.0691 - val_accuracy: 0.9850\n",
      "Epoch 32/100\n",
      "235/235 [==============================] - 0s 2ms/step - loss: 0.0176 - accuracy: 0.9944 - val_loss: 0.0733 - val_accuracy: 0.9843\n",
      "Epoch 33/100\n",
      "235/235 [==============================] - 0s 2ms/step - loss: 0.0162 - accuracy: 0.9951 - val_loss: 0.0623 - val_accuracy: 0.9849\n",
      "Epoch 34/100\n",
      "235/235 [==============================] - 0s 2ms/step - loss: 0.0154 - accuracy: 0.9952 - val_loss: 0.0670 - val_accuracy: 0.9860\n",
      "Epoch 35/100\n",
      "235/235 [==============================] - 0s 2ms/step - loss: 0.0163 - accuracy: 0.9947 - val_loss: 0.0625 - val_accuracy: 0.9862\n",
      "Epoch 36/100\n",
      "235/235 [==============================] - 0s 2ms/step - loss: 0.0147 - accuracy: 0.9952 - val_loss: 0.0734 - val_accuracy: 0.9855\n",
      "Epoch 37/100\n",
      "235/235 [==============================] - 0s 2ms/step - loss: 0.0153 - accuracy: 0.9947 - val_loss: 0.0717 - val_accuracy: 0.9855\n",
      "Epoch 38/100\n",
      "235/235 [==============================] - 0s 2ms/step - loss: 0.0157 - accuracy: 0.9952 - val_loss: 0.0707 - val_accuracy: 0.9865\n",
      "Epoch 39/100\n",
      "235/235 [==============================] - 0s 2ms/step - loss: 0.0158 - accuracy: 0.9949 - val_loss: 0.0688 - val_accuracy: 0.9859\n",
      "Epoch 40/100\n",
      "235/235 [==============================] - 0s 2ms/step - loss: 0.0117 - accuracy: 0.9965 - val_loss: 0.0778 - val_accuracy: 0.9848\n",
      "Epoch 41/100\n",
      "235/235 [==============================] - 0s 2ms/step - loss: 0.0136 - accuracy: 0.9956 - val_loss: 0.0702 - val_accuracy: 0.9862\n",
      "Epoch 42/100\n",
      "235/235 [==============================] - 0s 2ms/step - loss: 0.0149 - accuracy: 0.9956 - val_loss: 0.0628 - val_accuracy: 0.9873\n",
      "Epoch 43/100\n",
      "235/235 [==============================] - 0s 2ms/step - loss: 0.0131 - accuracy: 0.9958 - val_loss: 0.0644 - val_accuracy: 0.9874\n",
      "Epoch 44/100\n",
      "235/235 [==============================] - 0s 2ms/step - loss: 0.0129 - accuracy: 0.9959 - val_loss: 0.0638 - val_accuracy: 0.9864\n",
      "Epoch 45/100\n",
      "235/235 [==============================] - 0s 2ms/step - loss: 0.0135 - accuracy: 0.9956 - val_loss: 0.0817 - val_accuracy: 0.9836\n",
      "Epoch 46/100\n",
      "235/235 [==============================] - 0s 2ms/step - loss: 0.0129 - accuracy: 0.9957 - val_loss: 0.0760 - val_accuracy: 0.9851\n",
      "Epoch 47/100\n",
      "235/235 [==============================] - 0s 2ms/step - loss: 0.0153 - accuracy: 0.9952 - val_loss: 0.0733 - val_accuracy: 0.9862\n",
      "Epoch 48/100\n",
      "235/235 [==============================] - 0s 2ms/step - loss: 0.0127 - accuracy: 0.9963 - val_loss: 0.0659 - val_accuracy: 0.9862\n",
      "Epoch 49/100\n",
      "235/235 [==============================] - 0s 2ms/step - loss: 0.0111 - accuracy: 0.9966 - val_loss: 0.0664 - val_accuracy: 0.9875\n",
      "Epoch 50/100\n",
      "235/235 [==============================] - 0s 2ms/step - loss: 0.0112 - accuracy: 0.9965 - val_loss: 0.0741 - val_accuracy: 0.9864\n",
      "Epoch 51/100\n",
      "235/235 [==============================] - 0s 2ms/step - loss: 0.0106 - accuracy: 0.9968 - val_loss: 0.0784 - val_accuracy: 0.9850\n",
      "Epoch 52/100\n",
      "235/235 [==============================] - 0s 2ms/step - loss: 0.0124 - accuracy: 0.9962 - val_loss: 0.0692 - val_accuracy: 0.9861\n",
      "Epoch 53/100\n",
      "235/235 [==============================] - 1s 2ms/step - loss: 0.0123 - accuracy: 0.9962 - val_loss: 0.0670 - val_accuracy: 0.9859\n",
      "Epoch 54/100\n",
      "235/235 [==============================] - 0s 2ms/step - loss: 0.0106 - accuracy: 0.9965 - val_loss: 0.0775 - val_accuracy: 0.9864\n",
      "Epoch 55/100\n",
      "235/235 [==============================] - 0s 2ms/step - loss: 0.0138 - accuracy: 0.9959 - val_loss: 0.0663 - val_accuracy: 0.9866\n",
      "Epoch 56/100\n",
      "235/235 [==============================] - 0s 2ms/step - loss: 0.0107 - accuracy: 0.9965 - val_loss: 0.0673 - val_accuracy: 0.9866\n",
      "Epoch 57/100\n",
      "235/235 [==============================] - 0s 2ms/step - loss: 0.0096 - accuracy: 0.9969 - val_loss: 0.0725 - val_accuracy: 0.9868\n",
      "Epoch 58/100\n",
      "235/235 [==============================] - 0s 2ms/step - loss: 0.0092 - accuracy: 0.9969 - val_loss: 0.0806 - val_accuracy: 0.9857\n",
      "Epoch 59/100\n",
      "235/235 [==============================] - 0s 2ms/step - loss: 0.0136 - accuracy: 0.9958 - val_loss: 0.0750 - val_accuracy: 0.9864\n",
      "Epoch 60/100\n",
      "235/235 [==============================] - 0s 2ms/step - loss: 0.0113 - accuracy: 0.9964 - val_loss: 0.0759 - val_accuracy: 0.9873\n",
      "Epoch 61/100\n",
      "235/235 [==============================] - 0s 2ms/step - loss: 0.0095 - accuracy: 0.9970 - val_loss: 0.0741 - val_accuracy: 0.9861\n",
      "Epoch 62/100\n",
      "235/235 [==============================] - 0s 2ms/step - loss: 0.0109 - accuracy: 0.9970 - val_loss: 0.0699 - val_accuracy: 0.9874\n",
      "Epoch 63/100\n",
      "235/235 [==============================] - 0s 2ms/step - loss: 0.0106 - accuracy: 0.9969 - val_loss: 0.0783 - val_accuracy: 0.9858\n",
      "Epoch 64/100\n",
      "235/235 [==============================] - 0s 2ms/step - loss: 0.0105 - accuracy: 0.9969 - val_loss: 0.0728 - val_accuracy: 0.9871\n",
      "Epoch 65/100\n",
      "235/235 [==============================] - 0s 2ms/step - loss: 0.0087 - accuracy: 0.9972 - val_loss: 0.0807 - val_accuracy: 0.9851\n",
      "Epoch 66/100\n",
      "235/235 [==============================] - 0s 2ms/step - loss: 0.0116 - accuracy: 0.9967 - val_loss: 0.0768 - val_accuracy: 0.9860\n",
      "Epoch 67/100\n",
      "235/235 [==============================] - 0s 2ms/step - loss: 0.0117 - accuracy: 0.9965 - val_loss: 0.0779 - val_accuracy: 0.9857\n",
      "Epoch 68/100\n",
      "235/235 [==============================] - 0s 2ms/step - loss: 0.0093 - accuracy: 0.9971 - val_loss: 0.0772 - val_accuracy: 0.9861\n",
      "Epoch 69/100\n",
      "235/235 [==============================] - 0s 2ms/step - loss: 0.0086 - accuracy: 0.9972 - val_loss: 0.0848 - val_accuracy: 0.9852\n",
      "Epoch 70/100\n",
      "235/235 [==============================] - 0s 2ms/step - loss: 0.0093 - accuracy: 0.9971 - val_loss: 0.0817 - val_accuracy: 0.9854\n",
      "Epoch 71/100\n",
      "235/235 [==============================] - 0s 2ms/step - loss: 0.0099 - accuracy: 0.9969 - val_loss: 0.0808 - val_accuracy: 0.9866\n",
      "Epoch 72/100\n",
      "235/235 [==============================] - 0s 2ms/step - loss: 0.0099 - accuracy: 0.9970 - val_loss: 0.0744 - val_accuracy: 0.9862\n",
      "Epoch 73/100\n",
      "235/235 [==============================] - 0s 2ms/step - loss: 0.0081 - accuracy: 0.9977 - val_loss: 0.0780 - val_accuracy: 0.9864\n",
      "Epoch 74/100\n",
      "235/235 [==============================] - 0s 2ms/step - loss: 0.0081 - accuracy: 0.9974 - val_loss: 0.0764 - val_accuracy: 0.9866\n",
      "Epoch 75/100\n",
      "235/235 [==============================] - 0s 2ms/step - loss: 0.0090 - accuracy: 0.9974 - val_loss: 0.0858 - val_accuracy: 0.9856\n",
      "Epoch 76/100\n",
      "235/235 [==============================] - 1s 2ms/step - loss: 0.0107 - accuracy: 0.9967 - val_loss: 0.0730 - val_accuracy: 0.9876\n",
      "Epoch 77/100\n",
      "235/235 [==============================] - 0s 2ms/step - loss: 0.0085 - accuracy: 0.9975 - val_loss: 0.0781 - val_accuracy: 0.9858\n",
      "Epoch 78/100\n",
      "235/235 [==============================] - 0s 2ms/step - loss: 0.0100 - accuracy: 0.9973 - val_loss: 0.0812 - val_accuracy: 0.9855\n",
      "Epoch 79/100\n",
      "235/235 [==============================] - 0s 2ms/step - loss: 0.0111 - accuracy: 0.9968 - val_loss: 0.0853 - val_accuracy: 0.9858\n",
      "Epoch 80/100\n",
      "235/235 [==============================] - 0s 2ms/step - loss: 0.0084 - accuracy: 0.9977 - val_loss: 0.0820 - val_accuracy: 0.9855\n",
      "Epoch 81/100\n",
      "235/235 [==============================] - 0s 2ms/step - loss: 0.0089 - accuracy: 0.9973 - val_loss: 0.0734 - val_accuracy: 0.9869\n",
      "Epoch 82/100\n",
      "235/235 [==============================] - 0s 2ms/step - loss: 0.0093 - accuracy: 0.9973 - val_loss: 0.0825 - val_accuracy: 0.9858\n",
      "Epoch 83/100\n",
      "235/235 [==============================] - 0s 2ms/step - loss: 0.0074 - accuracy: 0.9975 - val_loss: 0.0824 - val_accuracy: 0.9859\n",
      "Epoch 84/100\n",
      "235/235 [==============================] - 0s 2ms/step - loss: 0.0108 - accuracy: 0.9968 - val_loss: 0.0716 - val_accuracy: 0.9867\n",
      "Epoch 85/100\n",
      "235/235 [==============================] - 0s 2ms/step - loss: 0.0077 - accuracy: 0.9977 - val_loss: 0.0829 - val_accuracy: 0.9869\n",
      "Epoch 86/100\n",
      "235/235 [==============================] - 0s 2ms/step - loss: 0.0085 - accuracy: 0.9974 - val_loss: 0.0800 - val_accuracy: 0.9866\n",
      "Epoch 87/100\n",
      "235/235 [==============================] - 0s 2ms/step - loss: 0.0077 - accuracy: 0.9976 - val_loss: 0.0827 - val_accuracy: 0.9853\n",
      "Epoch 88/100\n",
      "235/235 [==============================] - 0s 2ms/step - loss: 0.0091 - accuracy: 0.9972 - val_loss: 0.0886 - val_accuracy: 0.9842\n",
      "Epoch 89/100\n",
      "235/235 [==============================] - 0s 2ms/step - loss: 0.0095 - accuracy: 0.9973 - val_loss: 0.0899 - val_accuracy: 0.9852\n",
      "Epoch 90/100\n",
      "235/235 [==============================] - 0s 2ms/step - loss: 0.0075 - accuracy: 0.9974 - val_loss: 0.0948 - val_accuracy: 0.9852\n",
      "Epoch 91/100\n",
      "235/235 [==============================] - 0s 2ms/step - loss: 0.0071 - accuracy: 0.9979 - val_loss: 0.0922 - val_accuracy: 0.9868\n",
      "Epoch 92/100\n",
      "235/235 [==============================] - 0s 2ms/step - loss: 0.0088 - accuracy: 0.9976 - val_loss: 0.0863 - val_accuracy: 0.9853\n",
      "Epoch 93/100\n",
      "235/235 [==============================] - 1s 2ms/step - loss: 0.0098 - accuracy: 0.9973 - val_loss: 0.0920 - val_accuracy: 0.9848\n",
      "Epoch 94/100\n",
      "235/235 [==============================] - 1s 2ms/step - loss: 0.0101 - accuracy: 0.9971 - val_loss: 0.0781 - val_accuracy: 0.9865\n",
      "Epoch 95/100\n",
      "235/235 [==============================] - 0s 2ms/step - loss: 0.0059 - accuracy: 0.9983 - val_loss: 0.0846 - val_accuracy: 0.9864\n",
      "Epoch 96/100\n",
      "235/235 [==============================] - 0s 2ms/step - loss: 0.0081 - accuracy: 0.9975 - val_loss: 0.0810 - val_accuracy: 0.9865\n",
      "Epoch 97/100\n",
      "235/235 [==============================] - 0s 2ms/step - loss: 0.0092 - accuracy: 0.9970 - val_loss: 0.0796 - val_accuracy: 0.9856\n",
      "Epoch 98/100\n",
      "235/235 [==============================] - 0s 2ms/step - loss: 0.0085 - accuracy: 0.9974 - val_loss: 0.0779 - val_accuracy: 0.9858\n",
      "Epoch 99/100\n",
      "235/235 [==============================] - 0s 2ms/step - loss: 0.0071 - accuracy: 0.9978 - val_loss: 0.0842 - val_accuracy: 0.9856\n",
      "Epoch 100/100\n",
      "235/235 [==============================] - 0s 2ms/step - loss: 0.0069 - accuracy: 0.9978 - val_loss: 0.0860 - val_accuracy: 0.9857\n"
     ]
    },
    {
     "data": {
      "text/plain": [
       "<keras.callbacks.History at 0x7fad81f7bfa0>"
      ]
     },
     "execution_count": 4,
     "metadata": {},
     "output_type": "execute_result"
    }
   ],
   "source": [
    "# Train model \n",
    "model.compile(loss='sparse_categorical_crossentropy', optimizer='adam', metrics=['accuracy'])\n",
    "model.fit(\n",
    "    train_images,\n",
    "    train_labels,\n",
    "    epochs=100,\n",
    "    batch_size=256,\n",
    "    verbose=1,\n",
    "    validation_data=(test_images, test_labels))"
   ]
  },
  {
   "cell_type": "code",
   "execution_count": 5,
   "metadata": {},
   "outputs": [],
   "source": [
    "# Lưu Model và nộp \n",
    "model.save(\"mymodel.h5\")"
   ]
  }
 ],
 "metadata": {
  "kernelspec": {
   "display_name": "protonx",
   "language": "python",
   "name": "python3"
  },
  "language_info": {
   "codemirror_mode": {
    "name": "ipython",
    "version": 3
   },
   "file_extension": ".py",
   "mimetype": "text/x-python",
   "name": "python",
   "nbconvert_exporter": "python",
   "pygments_lexer": "ipython3",
   "version": "3.8.18"
  }
 },
 "nbformat": 4,
 "nbformat_minor": 2
}
