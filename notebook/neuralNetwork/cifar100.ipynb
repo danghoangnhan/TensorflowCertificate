{
 "cells": [
  {
   "cell_type": "code",
   "execution_count": 1,
   "metadata": {},
   "outputs": [
    {
     "name": "stdout",
     "output_type": "stream",
     "text": [
      "2.8.0\n"
     ]
    }
   ],
   "source": [
    "import os\n",
    "os.environ[\"CUDA_VISIBLE_DEVICES\"]=\"1,0\"\n",
    "# TensorFlow and tf.keras\n",
    "import tensorflow as tf\n",
    "\n",
    "# Helper libraries\n",
    "import matplotlib.pyplot as plt\n",
    "print(tf.__version__)"
   ]
  },
  {
   "cell_type": "code",
   "execution_count": 2,
   "metadata": {},
   "outputs": [
    {
     "data": {
      "text/plain": [
       "(50000, 3072)"
      ]
     },
     "execution_count": 2,
     "metadata": {},
     "output_type": "execute_result"
    }
   ],
   "source": [
    "(train_images, train_labels), (test_images, test_labels) = tf.keras.datasets.cifar10.load_data()\n",
    "train_images = train_images / 255\n",
    "test_images = test_images / 255\n",
    "train_images = train_images.reshape(50000,3072)\n",
    "test_images = test_images.reshape(10000, 3072)\n",
    "train_images.shape"
   ]
  },
  {
   "cell_type": "code",
   "execution_count": 3,
   "metadata": {},
   "outputs": [
    {
     "name": "stderr",
     "output_type": "stream",
     "text": [
      "2023-10-12 07:16:18.208409: I tensorflow/stream_executor/cuda/cuda_gpu_executor.cc:936] successful NUMA node read from SysFS had negative value (-1), but there must be at least one NUMA node, so returning NUMA node zero\n",
      "2023-10-12 07:16:18.208596: I tensorflow/stream_executor/cuda/cuda_gpu_executor.cc:936] successful NUMA node read from SysFS had negative value (-1), but there must be at least one NUMA node, so returning NUMA node zero\n",
      "2023-10-12 07:16:18.234343: I tensorflow/stream_executor/cuda/cuda_gpu_executor.cc:936] successful NUMA node read from SysFS had negative value (-1), but there must be at least one NUMA node, so returning NUMA node zero\n",
      "2023-10-12 07:16:18.234544: I tensorflow/stream_executor/cuda/cuda_gpu_executor.cc:936] successful NUMA node read from SysFS had negative value (-1), but there must be at least one NUMA node, so returning NUMA node zero\n",
      "2023-10-12 07:16:18.234699: I tensorflow/stream_executor/cuda/cuda_gpu_executor.cc:936] successful NUMA node read from SysFS had negative value (-1), but there must be at least one NUMA node, so returning NUMA node zero\n",
      "2023-10-12 07:16:18.234871: I tensorflow/stream_executor/cuda/cuda_gpu_executor.cc:936] successful NUMA node read from SysFS had negative value (-1), but there must be at least one NUMA node, so returning NUMA node zero\n",
      "2023-10-12 07:16:18.235433: I tensorflow/core/platform/cpu_feature_guard.cc:151] This TensorFlow binary is optimized with oneAPI Deep Neural Network Library (oneDNN) to use the following CPU instructions in performance-critical operations:  AVX2 FMA\n",
      "To enable them in other operations, rebuild TensorFlow with the appropriate compiler flags.\n",
      "2023-10-12 07:16:18.352216: I tensorflow/stream_executor/cuda/cuda_gpu_executor.cc:936] successful NUMA node read from SysFS had negative value (-1), but there must be at least one NUMA node, so returning NUMA node zero\n",
      "2023-10-12 07:16:18.352398: I tensorflow/stream_executor/cuda/cuda_gpu_executor.cc:936] successful NUMA node read from SysFS had negative value (-1), but there must be at least one NUMA node, so returning NUMA node zero\n",
      "2023-10-12 07:16:18.352550: I tensorflow/stream_executor/cuda/cuda_gpu_executor.cc:936] successful NUMA node read from SysFS had negative value (-1), but there must be at least one NUMA node, so returning NUMA node zero\n",
      "2023-10-12 07:16:18.352690: I tensorflow/stream_executor/cuda/cuda_gpu_executor.cc:936] successful NUMA node read from SysFS had negative value (-1), but there must be at least one NUMA node, so returning NUMA node zero\n",
      "2023-10-12 07:16:18.352828: I tensorflow/stream_executor/cuda/cuda_gpu_executor.cc:936] successful NUMA node read from SysFS had negative value (-1), but there must be at least one NUMA node, so returning NUMA node zero\n",
      "2023-10-12 07:16:18.352967: I tensorflow/stream_executor/cuda/cuda_gpu_executor.cc:936] successful NUMA node read from SysFS had negative value (-1), but there must be at least one NUMA node, so returning NUMA node zero\n",
      "2023-10-12 07:16:18.740950: I tensorflow/stream_executor/cuda/cuda_gpu_executor.cc:936] successful NUMA node read from SysFS had negative value (-1), but there must be at least one NUMA node, so returning NUMA node zero\n",
      "2023-10-12 07:16:18.741151: I tensorflow/stream_executor/cuda/cuda_gpu_executor.cc:936] successful NUMA node read from SysFS had negative value (-1), but there must be at least one NUMA node, so returning NUMA node zero\n",
      "2023-10-12 07:16:18.741300: I tensorflow/stream_executor/cuda/cuda_gpu_executor.cc:936] successful NUMA node read from SysFS had negative value (-1), but there must be at least one NUMA node, so returning NUMA node zero\n",
      "2023-10-12 07:16:18.741443: I tensorflow/stream_executor/cuda/cuda_gpu_executor.cc:936] successful NUMA node read from SysFS had negative value (-1), but there must be at least one NUMA node, so returning NUMA node zero\n",
      "2023-10-12 07:16:18.741583: I tensorflow/stream_executor/cuda/cuda_gpu_executor.cc:936] successful NUMA node read from SysFS had negative value (-1), but there must be at least one NUMA node, so returning NUMA node zero\n",
      "2023-10-12 07:16:18.741716: I tensorflow/core/common_runtime/gpu/gpu_device.cc:1525] Created device /job:localhost/replica:0/task:0/device:GPU:0 with 813 MB memory:  -> device: 0, name: NVIDIA GeForce RTX 2080, pci bus id: 0000:02:00.0, compute capability: 7.5\n",
      "2023-10-12 07:16:18.742200: I tensorflow/stream_executor/cuda/cuda_gpu_executor.cc:936] successful NUMA node read from SysFS had negative value (-1), but there must be at least one NUMA node, so returning NUMA node zero\n",
      "2023-10-12 07:16:18.742337: I tensorflow/core/common_runtime/gpu/gpu_device.cc:1525] Created device /job:localhost/replica:0/task:0/device:GPU:1 with 409 MB memory:  -> device: 1, name: NVIDIA GeForce RTX 2080, pci bus id: 0000:01:00.0, compute capability: 7.5\n"
     ]
    }
   ],
   "source": [
    "model = tf.keras.models.Sequential([\n",
    "    tf.keras.layers.Dense(512, input_dim=(3072), activation='relu'),\n",
    "    tf.keras.layers.Activation('relu'),\n",
    "    tf.keras.layers.Dropout(0.3),\n",
    "    tf.keras.layers.Dense(256, activation='relu'),\n",
    "    tf.keras.layers.Dropout(0.3),\n",
    "    tf.keras.layers.Dense(128, activation='relu'),\n",
    "    tf.keras.layers.Dropout(0.3),\n",
    "    tf.keras.layers.Dense(100, activation='softmax')\n",
    "])"
   ]
  },
  {
   "cell_type": "code",
   "execution_count": 4,
   "metadata": {},
   "outputs": [
    {
     "name": "stdout",
     "output_type": "stream",
     "text": [
      "Epoch 1/1000\n",
      "177/196 [==========================>...] - ETA: 0s - loss: 2.3185 - accuracy: 0.2101"
     ]
    },
    {
     "name": "stderr",
     "output_type": "stream",
     "text": [
      "2023-10-12 07:16:30.800260: W tensorflow/core/common_runtime/bfc_allocator.cc:462] Allocator (GPU_0_bfc) ran out of memory trying to allocate 3.00MiB (rounded to 3145728)requested by op SameWorkerRecvDone\n",
      "If the cause is memory fragmentation maybe the environment variable 'TF_GPU_ALLOCATOR=cuda_malloc_async' will improve the situation. \n",
      "Current allocation summary follows.\n",
      "Current allocation summary follows.\n",
      "2023-10-12 07:16:30.800301: I tensorflow/core/common_runtime/bfc_allocator.cc:1010] BFCAllocator dump for GPU_0_bfc\n",
      "2023-10-12 07:16:30.800309: I tensorflow/core/common_runtime/bfc_allocator.cc:1017] Bin (256): \tTotal Chunks: 34, Chunks in use: 34. 8.5KiB allocated for chunks. 8.5KiB in use in bin. 176B client-requested in use in bin.\n",
      "2023-10-12 07:16:30.800315: I tensorflow/core/common_runtime/bfc_allocator.cc:1017] Bin (512): \tTotal Chunks: 6, Chunks in use: 6. 3.0KiB allocated for chunks. 3.0KiB in use in bin. 2.7KiB client-requested in use in bin.\n",
      "2023-10-12 07:16:30.800320: I tensorflow/core/common_runtime/bfc_allocator.cc:1017] Bin (1024): \tTotal Chunks: 4, Chunks in use: 4. 4.2KiB allocated for chunks. 4.2KiB in use in bin. 4.0KiB client-requested in use in bin.\n",
      "2023-10-12 07:16:30.800325: I tensorflow/core/common_runtime/bfc_allocator.cc:1017] Bin (2048): \tTotal Chunks: 3, Chunks in use: 3. 6.0KiB allocated for chunks. 6.0KiB in use in bin. 6.0KiB client-requested in use in bin.\n",
      "2023-10-12 07:16:30.800330: I tensorflow/core/common_runtime/bfc_allocator.cc:1017] Bin (4096): \tTotal Chunks: 0, Chunks in use: 0. 0B allocated for chunks. 0B in use in bin. 0B client-requested in use in bin.\n",
      "2023-10-12 07:16:30.800335: I tensorflow/core/common_runtime/bfc_allocator.cc:1017] Bin (8192): \tTotal Chunks: 1, Chunks in use: 1. 10.0KiB allocated for chunks. 10.0KiB in use in bin. 9.8KiB client-requested in use in bin.\n",
      "2023-10-12 07:16:30.800340: I tensorflow/core/common_runtime/bfc_allocator.cc:1017] Bin (16384): \tTotal Chunks: 1, Chunks in use: 0. 26.8KiB allocated for chunks. 0B in use in bin. 0B client-requested in use in bin.\n",
      "2023-10-12 07:16:30.800346: I tensorflow/core/common_runtime/bfc_allocator.cc:1017] Bin (32768): \tTotal Chunks: 4, Chunks in use: 4. 204.0KiB allocated for chunks. 204.0KiB in use in bin. 198.8KiB client-requested in use in bin.\n",
      "2023-10-12 07:16:30.800351: I tensorflow/core/common_runtime/bfc_allocator.cc:1017] Bin (65536): \tTotal Chunks: 0, Chunks in use: 0. 0B allocated for chunks. 0B in use in bin. 0B client-requested in use in bin.\n",
      "2023-10-12 07:16:30.800356: I tensorflow/core/common_runtime/bfc_allocator.cc:1017] Bin (131072): \tTotal Chunks: 3, Chunks in use: 3. 384.0KiB allocated for chunks. 384.0KiB in use in bin. 384.0KiB client-requested in use in bin.\n",
      "2023-10-12 07:16:30.800361: I tensorflow/core/common_runtime/bfc_allocator.cc:1017] Bin (262144): \tTotal Chunks: 0, Chunks in use: 0. 0B allocated for chunks. 0B in use in bin. 0B client-requested in use in bin.\n",
      "2023-10-12 07:16:30.800365: I tensorflow/core/common_runtime/bfc_allocator.cc:1017] Bin (524288): \tTotal Chunks: 3, Chunks in use: 3. 1.62MiB allocated for chunks. 1.62MiB in use in bin. 1.50MiB client-requested in use in bin.\n",
      "2023-10-12 07:16:30.800370: I tensorflow/core/common_runtime/bfc_allocator.cc:1017] Bin (1048576): \tTotal Chunks: 0, Chunks in use: 0. 0B allocated for chunks. 0B in use in bin. 0B client-requested in use in bin.\n",
      "2023-10-12 07:16:30.800374: I tensorflow/core/common_runtime/bfc_allocator.cc:1017] Bin (2097152): \tTotal Chunks: 0, Chunks in use: 0. 0B allocated for chunks. 0B in use in bin. 0B client-requested in use in bin.\n",
      "2023-10-12 07:16:30.800379: I tensorflow/core/common_runtime/bfc_allocator.cc:1017] Bin (4194304): \tTotal Chunks: 2, Chunks in use: 2. 12.00MiB allocated for chunks. 12.00MiB in use in bin. 12.00MiB client-requested in use in bin.\n",
      "2023-10-12 07:16:30.800385: I tensorflow/core/common_runtime/bfc_allocator.cc:1017] Bin (8388608): \tTotal Chunks: 1, Chunks in use: 1. 10.50MiB allocated for chunks. 10.50MiB in use in bin. 6.00MiB client-requested in use in bin.\n",
      "2023-10-12 07:16:30.800390: I tensorflow/core/common_runtime/bfc_allocator.cc:1017] Bin (16777216): \tTotal Chunks: 0, Chunks in use: 0. 0B allocated for chunks. 0B in use in bin. 0B client-requested in use in bin.\n",
      "2023-10-12 07:16:30.800395: I tensorflow/core/common_runtime/bfc_allocator.cc:1017] Bin (33554432): \tTotal Chunks: 0, Chunks in use: 0. 0B allocated for chunks. 0B in use in bin. 0B client-requested in use in bin.\n",
      "2023-10-12 07:16:30.800400: I tensorflow/core/common_runtime/bfc_allocator.cc:1017] Bin (67108864): \tTotal Chunks: 0, Chunks in use: 0. 0B allocated for chunks. 0B in use in bin. 0B client-requested in use in bin.\n",
      "2023-10-12 07:16:30.800405: I tensorflow/core/common_runtime/bfc_allocator.cc:1017] Bin (134217728): \tTotal Chunks: 1, Chunks in use: 1. 202.31MiB allocated for chunks. 202.31MiB in use in bin. 117.19MiB client-requested in use in bin.\n",
      "2023-10-12 07:16:30.800411: I tensorflow/core/common_runtime/bfc_allocator.cc:1017] Bin (268435456): \tTotal Chunks: 1, Chunks in use: 1. 585.94MiB allocated for chunks. 585.94MiB in use in bin. 585.94MiB client-requested in use in bin.\n",
      "2023-10-12 07:16:30.800416: I tensorflow/core/common_runtime/bfc_allocator.cc:1033] Bin for 3.00MiB was 2.00MiB, Chunk State: \n",
      "2023-10-12 07:16:30.800420: I tensorflow/core/common_runtime/bfc_allocator.cc:1046] Next region of size 852492288\n",
      "2023-10-12 07:16:30.800427: I tensorflow/core/common_runtime/bfc_allocator.cc:1066] InUse at 7fdab0000000 of size 256 next 1\n",
      "2023-10-12 07:16:30.800432: I tensorflow/core/common_runtime/bfc_allocator.cc:1066] InUse at 7fdab0000100 of size 1280 next 2\n",
      "2023-10-12 07:16:30.800436: I tensorflow/core/common_runtime/bfc_allocator.cc:1066] InUse at 7fdab0000600 of size 256 next 3\n",
      "2023-10-12 07:16:30.800440: I tensorflow/core/common_runtime/bfc_allocator.cc:1066] InUse at 7fdab0000700 of size 256 next 4\n",
      "2023-10-12 07:16:30.800443: I tensorflow/core/common_runtime/bfc_allocator.cc:1066] InUse at 7fdab0000800 of size 256 next 5\n",
      "2023-10-12 07:16:30.800447: I tensorflow/core/common_runtime/bfc_allocator.cc:1066] InUse at 7fdab0000900 of size 2048 next 6\n",
      "2023-10-12 07:16:30.800451: I tensorflow/core/common_runtime/bfc_allocator.cc:1066] InUse at 7fdab0001100 of size 256 next 9\n",
      "2023-10-12 07:16:30.800455: I tensorflow/core/common_runtime/bfc_allocator.cc:1066] InUse at 7fdab0001200 of size 256 next 10\n",
      "2023-10-12 07:16:30.800459: I tensorflow/core/common_runtime/bfc_allocator.cc:1066] InUse at 7fdab0001300 of size 1024 next 11\n",
      "2023-10-12 07:16:30.800463: I tensorflow/core/common_runtime/bfc_allocator.cc:1066] InUse at 7fdab0001700 of size 256 next 12\n",
      "2023-10-12 07:16:30.800467: I tensorflow/core/common_runtime/bfc_allocator.cc:1066] InUse at 7fdab0001800 of size 256 next 15\n",
      "2023-10-12 07:16:30.800471: I tensorflow/core/common_runtime/bfc_allocator.cc:1066] InUse at 7fdab0001900 of size 512 next 16\n",
      "2023-10-12 07:16:30.800474: I tensorflow/core/common_runtime/bfc_allocator.cc:1066] InUse at 7fdab0001b00 of size 256 next 17\n",
      "2023-10-12 07:16:30.800478: I tensorflow/core/common_runtime/bfc_allocator.cc:1066] InUse at 7fdab0001c00 of size 256 next 20\n",
      "2023-10-12 07:16:30.800482: I tensorflow/core/common_runtime/bfc_allocator.cc:1066] InUse at 7fdab0001d00 of size 512 next 21\n",
      "2023-10-12 07:16:30.800486: I tensorflow/core/common_runtime/bfc_allocator.cc:1066] InUse at 7fdab0001f00 of size 256 next 22\n",
      "2023-10-12 07:16:30.800490: I tensorflow/core/common_runtime/bfc_allocator.cc:1066] InUse at 7fdab0002000 of size 256 next 25\n",
      "2023-10-12 07:16:30.800493: I tensorflow/core/common_runtime/bfc_allocator.cc:1066] InUse at 7fdab0002100 of size 256 next 26\n",
      "2023-10-12 07:16:30.800521: I tensorflow/core/common_runtime/bfc_allocator.cc:1066] InUse at 7fdab0002200 of size 50176 next 28\n",
      "2023-10-12 07:16:30.800525: I tensorflow/core/common_runtime/bfc_allocator.cc:1066] InUse at 7fdab000e600 of size 256 next 29\n",
      "2023-10-12 07:16:30.800529: I tensorflow/core/common_runtime/bfc_allocator.cc:1066] InUse at 7fdab000e700 of size 256 next 30\n",
      "2023-10-12 07:16:30.800533: I tensorflow/core/common_runtime/bfc_allocator.cc:1066] InUse at 7fdab000e800 of size 256 next 31\n",
      "2023-10-12 07:16:30.800537: I tensorflow/core/common_runtime/bfc_allocator.cc:1066] InUse at 7fdab000e900 of size 256 next 32\n",
      "2023-10-12 07:16:30.800541: I tensorflow/core/common_runtime/bfc_allocator.cc:1066] InUse at 7fdab000ea00 of size 256 next 33\n",
      "2023-10-12 07:16:30.800545: I tensorflow/core/common_runtime/bfc_allocator.cc:1066] InUse at 7fdab000eb00 of size 256 next 34\n",
      "2023-10-12 07:16:30.800562: I tensorflow/core/common_runtime/bfc_allocator.cc:1066] InUse at 7fdab000ec00 of size 256 next 35\n",
      "2023-10-12 07:16:30.800566: I tensorflow/core/common_runtime/bfc_allocator.cc:1066] InUse at 7fdab000ed00 of size 256 next 36\n",
      "2023-10-12 07:16:30.800586: I tensorflow/core/common_runtime/bfc_allocator.cc:1066] InUse at 7fdab000ee00 of size 2048 next 37\n",
      "2023-10-12 07:16:30.800590: I tensorflow/core/common_runtime/bfc_allocator.cc:1066] InUse at 7fdab000f600 of size 1024 next 38\n",
      "2023-10-12 07:16:30.800609: I tensorflow/core/common_runtime/bfc_allocator.cc:1066] InUse at 7fdab000fa00 of size 512 next 40\n",
      "2023-10-12 07:16:30.800613: I tensorflow/core/common_runtime/bfc_allocator.cc:1066] InUse at 7fdab000fc00 of size 512 next 42\n",
      "2023-10-12 07:16:30.800616: I tensorflow/core/common_runtime/bfc_allocator.cc:1066] InUse at 7fdab000fe00 of size 2048 next 44\n",
      "2023-10-12 07:16:30.800620: I tensorflow/core/common_runtime/bfc_allocator.cc:1066] InUse at 7fdab0010600 of size 1024 next 46\n",
      "2023-10-12 07:16:30.800641: I tensorflow/core/common_runtime/bfc_allocator.cc:1066] InUse at 7fdab0010a00 of size 512 next 48\n",
      "2023-10-12 07:16:30.800645: I tensorflow/core/common_runtime/bfc_allocator.cc:1066] InUse at 7fdab0010c00 of size 512 next 49\n",
      "2023-10-12 07:16:30.800649: I tensorflow/core/common_runtime/bfc_allocator.cc:1066] InUse at 7fdab0010e00 of size 256 next 50\n",
      "2023-10-12 07:16:30.800653: I tensorflow/core/common_runtime/bfc_allocator.cc:1066] InUse at 7fdab0010f00 of size 256 next 51\n",
      "2023-10-12 07:16:30.800656: I tensorflow/core/common_runtime/bfc_allocator.cc:1066] InUse at 7fdab0011000 of size 256 next 52\n",
      "2023-10-12 07:16:30.800660: I tensorflow/core/common_runtime/bfc_allocator.cc:1066] InUse at 7fdab0011100 of size 256 next 53\n",
      "2023-10-12 07:16:30.800664: I tensorflow/core/common_runtime/bfc_allocator.cc:1066] InUse at 7fdab0011200 of size 256 next 54\n",
      "2023-10-12 07:16:30.800668: I tensorflow/core/common_runtime/bfc_allocator.cc:1066] InUse at 7fdab0011300 of size 256 next 55\n",
      "2023-10-12 07:16:30.800672: I tensorflow/core/common_runtime/bfc_allocator.cc:1066] InUse at 7fdab0011400 of size 256 next 56\n",
      "2023-10-12 07:16:30.800676: I tensorflow/core/common_runtime/bfc_allocator.cc:1066] InUse at 7fdab0011500 of size 256 next 57\n",
      "2023-10-12 07:16:30.800680: I tensorflow/core/common_runtime/bfc_allocator.cc:1066] InUse at 7fdab0011600 of size 256 next 58\n",
      "2023-10-12 07:16:30.800684: I tensorflow/core/common_runtime/bfc_allocator.cc:1066] InUse at 7fdab0011700 of size 256 next 82\n",
      "2023-10-12 07:16:30.800688: I tensorflow/core/common_runtime/bfc_allocator.cc:1066] InUse at 7fdab0011800 of size 256 next 66\n",
      "2023-10-12 07:16:30.800692: I tensorflow/core/common_runtime/bfc_allocator.cc:1066] InUse at 7fdab0011900 of size 256 next 77\n",
      "2023-10-12 07:16:30.800696: I tensorflow/core/common_runtime/bfc_allocator.cc:1066] InUse at 7fdab0011a00 of size 256 next 79\n",
      "2023-10-12 07:16:30.800700: I tensorflow/core/common_runtime/bfc_allocator.cc:1066] InUse at 7fdab0011b00 of size 10240 next 62\n",
      "2023-10-12 07:16:30.800706: I tensorflow/core/common_runtime/bfc_allocator.cc:1066] Free  at 7fdab0014300 of size 27392 next 23\n",
      "2023-10-12 07:16:30.800710: I tensorflow/core/common_runtime/bfc_allocator.cc:1066] InUse at 7fdab001ae00 of size 51200 next 24\n",
      "2023-10-12 07:16:30.800714: I tensorflow/core/common_runtime/bfc_allocator.cc:1066] InUse at 7fdab0027600 of size 51200 next 41\n",
      "2023-10-12 07:16:30.800718: I tensorflow/core/common_runtime/bfc_allocator.cc:1066] InUse at 7fdab0033e00 of size 56320 next 18\n",
      "2023-10-12 07:16:30.800722: I tensorflow/core/common_runtime/bfc_allocator.cc:1066] InUse at 7fdab0041a00 of size 131072 next 19\n",
      "2023-10-12 07:16:30.800726: I tensorflow/core/common_runtime/bfc_allocator.cc:1066] InUse at 7fdab0061a00 of size 653824 next 13\n",
      "2023-10-12 07:16:30.800731: I tensorflow/core/common_runtime/bfc_allocator.cc:1066] InUse at 7fdab0101400 of size 524288 next 14\n",
      "2023-10-12 07:16:30.800735: I tensorflow/core/common_runtime/bfc_allocator.cc:1066] InUse at 7fdab0181400 of size 11007232 next 7\n",
      "2023-10-12 07:16:30.800740: I tensorflow/core/common_runtime/bfc_allocator.cc:1066] InUse at 7fdab0c00900 of size 6291456 next 8\n",
      "2023-10-12 07:16:30.800744: I tensorflow/core/common_runtime/bfc_allocator.cc:1066] InUse at 7fdab1200900 of size 614400000 next 27\n",
      "2023-10-12 07:16:30.800749: I tensorflow/core/common_runtime/bfc_allocator.cc:1066] InUse at 7fdad5bf0900 of size 131072 next 39\n",
      "2023-10-12 07:16:30.800753: I tensorflow/core/common_runtime/bfc_allocator.cc:1066] InUse at 7fdad5c10900 of size 6291456 next 43\n",
      "2023-10-12 07:16:30.800757: I tensorflow/core/common_runtime/bfc_allocator.cc:1066] InUse at 7fdad6210900 of size 524288 next 45\n",
      "2023-10-12 07:16:30.800761: I tensorflow/core/common_runtime/bfc_allocator.cc:1066] InUse at 7fdad6290900 of size 131072 next 47\n",
      "2023-10-12 07:16:30.800765: I tensorflow/core/common_runtime/bfc_allocator.cc:1066] InUse at 7fdad62b0900 of size 212137728 next 18446744073709551615\n",
      "2023-10-12 07:16:30.800769: I tensorflow/core/common_runtime/bfc_allocator.cc:1071]      Summary of in-use Chunks by size: \n",
      "2023-10-12 07:16:30.800775: I tensorflow/core/common_runtime/bfc_allocator.cc:1074] 34 Chunks of size 256 totalling 8.5KiB\n",
      "2023-10-12 07:16:30.800780: I tensorflow/core/common_runtime/bfc_allocator.cc:1074] 6 Chunks of size 512 totalling 3.0KiB\n",
      "2023-10-12 07:16:30.800785: I tensorflow/core/common_runtime/bfc_allocator.cc:1074] 3 Chunks of size 1024 totalling 3.0KiB\n",
      "2023-10-12 07:16:30.800790: I tensorflow/core/common_runtime/bfc_allocator.cc:1074] 1 Chunks of size 1280 totalling 1.2KiB\n",
      "2023-10-12 07:16:30.800794: I tensorflow/core/common_runtime/bfc_allocator.cc:1074] 3 Chunks of size 2048 totalling 6.0KiB\n",
      "2023-10-12 07:16:30.800799: I tensorflow/core/common_runtime/bfc_allocator.cc:1074] 1 Chunks of size 10240 totalling 10.0KiB\n",
      "2023-10-12 07:16:30.800804: I tensorflow/core/common_runtime/bfc_allocator.cc:1074] 1 Chunks of size 50176 totalling 49.0KiB\n",
      "2023-10-12 07:16:30.800809: I tensorflow/core/common_runtime/bfc_allocator.cc:1074] 2 Chunks of size 51200 totalling 100.0KiB\n",
      "2023-10-12 07:16:30.800814: I tensorflow/core/common_runtime/bfc_allocator.cc:1074] 1 Chunks of size 56320 totalling 55.0KiB\n",
      "2023-10-12 07:16:30.800832: I tensorflow/core/common_runtime/bfc_allocator.cc:1074] 3 Chunks of size 131072 totalling 384.0KiB\n",
      "2023-10-12 07:16:30.800837: I tensorflow/core/common_runtime/bfc_allocator.cc:1074] 2 Chunks of size 524288 totalling 1.00MiB\n",
      "2023-10-12 07:16:30.800858: I tensorflow/core/common_runtime/bfc_allocator.cc:1074] 1 Chunks of size 653824 totalling 638.5KiB\n",
      "2023-10-12 07:16:30.800863: I tensorflow/core/common_runtime/bfc_allocator.cc:1074] 2 Chunks of size 6291456 totalling 12.00MiB\n",
      "2023-10-12 07:16:30.800868: I tensorflow/core/common_runtime/bfc_allocator.cc:1074] 1 Chunks of size 11007232 totalling 10.50MiB\n",
      "2023-10-12 07:16:30.800873: I tensorflow/core/common_runtime/bfc_allocator.cc:1074] 1 Chunks of size 212137728 totalling 202.31MiB\n",
      "2023-10-12 07:16:30.800878: I tensorflow/core/common_runtime/bfc_allocator.cc:1074] 1 Chunks of size 614400000 totalling 585.94MiB\n",
      "2023-10-12 07:16:30.800896: I tensorflow/core/common_runtime/bfc_allocator.cc:1078] Sum Total of in-use chunks: 812.97MiB\n",
      "2023-10-12 07:16:30.800900: I tensorflow/core/common_runtime/bfc_allocator.cc:1080] total_region_allocated_bytes_: 852492288 memory_limit_: 852492288 available bytes: 0 curr_region_allocation_bytes_: 1704984576\n",
      "2023-10-12 07:16:30.800908: I tensorflow/core/common_runtime/bfc_allocator.cc:1086] Stats: \n",
      "Limit:                       852492288\n",
      "InUse:                       852464896\n",
      "MaxInUse:                    852464896\n",
      "NumAllocs:                       11059\n",
      "MaxAllocSize:                614400000\n",
      "Reserved:                            0\n",
      "PeakReserved:                        0\n",
      "LargestFreeBlock:                    0\n",
      "\n",
      "2023-10-12 07:16:30.800916: W tensorflow/core/common_runtime/bfc_allocator.cc:474] ******************************************************************************************xxxxxxxxxx\n"
     ]
    },
    {
     "ename": "ResourceExhaustedError",
     "evalue": "Graph execution error:\n\nSameWorkerRecvDone unable to allocate output tensor. Key: /job:localhost/replica:0/task:0/device:CPU:0;430e092c9386b9f6;/job:localhost/replica:0/task:0/device:GPU:0;edge_15_IteratorGetNext;0:0\n\t [[{{node IteratorGetNext/_4}}]]\nHint: If you want to see a list of allocated tensors when OOM happens, add report_tensor_allocations_upon_oom to RunOptions for current allocation info. This isn't available when running in Eager mode.\n [Op:__inference_test_function_1817]",
     "output_type": "error",
     "traceback": [
      "\u001b[0;31m---------------------------------------------------------------------------\u001b[0m",
      "\u001b[0;31mResourceExhaustedError\u001b[0m                    Traceback (most recent call last)",
      "\u001b[1;32m/home/danieldu/TensorflowCertificate/notebook/neuralNetwork/cifar100.ipynb Cell 4\u001b[0m line \u001b[0;36m3\n\u001b[1;32m      <a href='vscode-notebook-cell:/home/danieldu/TensorflowCertificate/notebook/neuralNetwork/cifar100.ipynb#W3sZmlsZQ%3D%3D?line=0'>1</a>\u001b[0m \u001b[39m# Train model \u001b[39;00m\n\u001b[1;32m      <a href='vscode-notebook-cell:/home/danieldu/TensorflowCertificate/notebook/neuralNetwork/cifar100.ipynb#W3sZmlsZQ%3D%3D?line=1'>2</a>\u001b[0m model\u001b[39m.\u001b[39mcompile(loss\u001b[39m=\u001b[39m\u001b[39m'\u001b[39m\u001b[39msparse_categorical_crossentropy\u001b[39m\u001b[39m'\u001b[39m, optimizer\u001b[39m=\u001b[39m\u001b[39m'\u001b[39m\u001b[39madam\u001b[39m\u001b[39m'\u001b[39m, metrics\u001b[39m=\u001b[39m[\u001b[39m'\u001b[39m\u001b[39maccuracy\u001b[39m\u001b[39m'\u001b[39m])\n\u001b[0;32m----> <a href='vscode-notebook-cell:/home/danieldu/TensorflowCertificate/notebook/neuralNetwork/cifar100.ipynb#W3sZmlsZQ%3D%3D?line=2'>3</a>\u001b[0m model\u001b[39m.\u001b[39;49mfit(\n\u001b[1;32m      <a href='vscode-notebook-cell:/home/danieldu/TensorflowCertificate/notebook/neuralNetwork/cifar100.ipynb#W3sZmlsZQ%3D%3D?line=3'>4</a>\u001b[0m     train_images,\n\u001b[1;32m      <a href='vscode-notebook-cell:/home/danieldu/TensorflowCertificate/notebook/neuralNetwork/cifar100.ipynb#W3sZmlsZQ%3D%3D?line=4'>5</a>\u001b[0m     train_labels,\n\u001b[1;32m      <a href='vscode-notebook-cell:/home/danieldu/TensorflowCertificate/notebook/neuralNetwork/cifar100.ipynb#W3sZmlsZQ%3D%3D?line=5'>6</a>\u001b[0m     epochs\u001b[39m=\u001b[39;49m\u001b[39m1000\u001b[39;49m,\n\u001b[1;32m      <a href='vscode-notebook-cell:/home/danieldu/TensorflowCertificate/notebook/neuralNetwork/cifar100.ipynb#W3sZmlsZQ%3D%3D?line=6'>7</a>\u001b[0m     batch_size\u001b[39m=\u001b[39;49m\u001b[39m256\u001b[39;49m,\n\u001b[1;32m      <a href='vscode-notebook-cell:/home/danieldu/TensorflowCertificate/notebook/neuralNetwork/cifar100.ipynb#W3sZmlsZQ%3D%3D?line=7'>8</a>\u001b[0m     verbose\u001b[39m=\u001b[39;49m\u001b[39m1\u001b[39;49m,\n\u001b[1;32m      <a href='vscode-notebook-cell:/home/danieldu/TensorflowCertificate/notebook/neuralNetwork/cifar100.ipynb#W3sZmlsZQ%3D%3D?line=8'>9</a>\u001b[0m     validation_data\u001b[39m=\u001b[39;49m(test_images, test_labels))\n",
      "File \u001b[0;32m~/anaconda3/envs/protonx/lib/python3.8/site-packages/keras/utils/traceback_utils.py:67\u001b[0m, in \u001b[0;36mfilter_traceback.<locals>.error_handler\u001b[0;34m(*args, **kwargs)\u001b[0m\n\u001b[1;32m     65\u001b[0m \u001b[39mexcept\u001b[39;00m \u001b[39mException\u001b[39;00m \u001b[39mas\u001b[39;00m e:  \u001b[39m# pylint: disable=broad-except\u001b[39;00m\n\u001b[1;32m     66\u001b[0m   filtered_tb \u001b[39m=\u001b[39m _process_traceback_frames(e\u001b[39m.\u001b[39m__traceback__)\n\u001b[0;32m---> 67\u001b[0m   \u001b[39mraise\u001b[39;00m e\u001b[39m.\u001b[39mwith_traceback(filtered_tb) \u001b[39mfrom\u001b[39;00m \u001b[39mNone\u001b[39;00m\n\u001b[1;32m     68\u001b[0m \u001b[39mfinally\u001b[39;00m:\n\u001b[1;32m     69\u001b[0m   \u001b[39mdel\u001b[39;00m filtered_tb\n",
      "File \u001b[0;32m~/anaconda3/envs/protonx/lib/python3.8/site-packages/tensorflow/python/eager/execute.py:54\u001b[0m, in \u001b[0;36mquick_execute\u001b[0;34m(op_name, num_outputs, inputs, attrs, ctx, name)\u001b[0m\n\u001b[1;32m     52\u001b[0m \u001b[39mtry\u001b[39;00m:\n\u001b[1;32m     53\u001b[0m   ctx\u001b[39m.\u001b[39mensure_initialized()\n\u001b[0;32m---> 54\u001b[0m   tensors \u001b[39m=\u001b[39m pywrap_tfe\u001b[39m.\u001b[39mTFE_Py_Execute(ctx\u001b[39m.\u001b[39m_handle, device_name, op_name,\n\u001b[1;32m     55\u001b[0m                                       inputs, attrs, num_outputs)\n\u001b[1;32m     56\u001b[0m \u001b[39mexcept\u001b[39;00m core\u001b[39m.\u001b[39m_NotOkStatusException \u001b[39mas\u001b[39;00m e:\n\u001b[1;32m     57\u001b[0m   \u001b[39mif\u001b[39;00m name \u001b[39mis\u001b[39;00m \u001b[39mnot\u001b[39;00m \u001b[39mNone\u001b[39;00m:\n",
      "\u001b[0;31mResourceExhaustedError\u001b[0m: Graph execution error:\n\nSameWorkerRecvDone unable to allocate output tensor. Key: /job:localhost/replica:0/task:0/device:CPU:0;430e092c9386b9f6;/job:localhost/replica:0/task:0/device:GPU:0;edge_15_IteratorGetNext;0:0\n\t [[{{node IteratorGetNext/_4}}]]\nHint: If you want to see a list of allocated tensors when OOM happens, add report_tensor_allocations_upon_oom to RunOptions for current allocation info. This isn't available when running in Eager mode.\n [Op:__inference_test_function_1817]"
     ]
    }
   ],
   "source": [
    "# Train model \n",
    "model.compile(loss='sparse_categorical_crossentropy', optimizer='adam', metrics=['accuracy'])\n",
    "model.fit(\n",
    "    train_images,\n",
    "    train_labels,\n",
    "    epochs=1000,\n",
    "    batch_size=256,\n",
    "    verbose=1,\n",
    "    validation_data=(test_images, test_labels))"
   ]
  },
  {
   "cell_type": "code",
   "execution_count": null,
   "metadata": {},
   "outputs": [],
   "source": [
    "# Lưu Model và nộp \n",
    "model.save(\"cifar100.h5\")"
   ]
  }
 ],
 "metadata": {
  "kernelspec": {
   "display_name": "protonx",
   "language": "python",
   "name": "python3"
  },
  "language_info": {
   "codemirror_mode": {
    "name": "ipython",
    "version": 3
   },
   "file_extension": ".py",
   "mimetype": "text/x-python",
   "name": "python",
   "nbconvert_exporter": "python",
   "pygments_lexer": "ipython3",
   "version": "3.8.18"
  }
 },
 "nbformat": 4,
 "nbformat_minor": 2
}
